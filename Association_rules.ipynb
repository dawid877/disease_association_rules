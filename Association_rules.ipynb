{
 "cells": [
  {
   "cell_type": "code",
   "execution_count": 1,
   "id": "c6a19cb4-8336-4f7d-bbfc-751e311d077d",
   "metadata": {},
   "outputs": [],
   "source": [
    "# I found a dataset on Kaggle showing 2392 patients tested in the context of asthma indicators. The link:\n",
    "\n",
    "# https://www.kaggle.com/datasets/rabieelkharoua/asthma-disease-dataset/data\n",
    "\n",
    "# It is important to add that there is a misleading intruction on Kaggle's dataset's description. It says that all the patients are diagnosed with asthma, while the vast majority has value \"No\" in the variable Diagnose. For comparisonal purposes, we will split the dataset in two groups - \n",
    "# asthmatic and non-asthmatic minority, later on in the analysis."
   ]
  },
  {
   "cell_type": "code",
   "execution_count": 2,
   "id": "50d5262a-f956-4000-9d9d-eea0d6fe66c6",
   "metadata": {},
   "outputs": [],
   "source": [
    "# The purpose of this project is to get insight about the popularity of different traits combinations among asthmatic people and bad habits combinations in the general population. By general population, I mean the whole dataset (I will create asthmatic subset later on)."
   ]
  },
  {
   "cell_type": "code",
   "execution_count": 3,
   "id": "e7b3563b-6b12-4f94-ab49-a476673df267",
   "metadata": {},
   "outputs": [],
   "source": [
    "astma <- read.csv('asthma_disease_data.csv')"
   ]
  },
  {
   "cell_type": "code",
   "execution_count": 4,
   "id": "af1afff7-d54a-49a6-9591-5022178b09f4",
   "metadata": {},
   "outputs": [
    {
     "data": {
      "text/html": [
       "<table class=\"dataframe\">\n",
       "<caption>A data.frame: 6 × 29</caption>\n",
       "<thead>\n",
       "\t<tr><th></th><th scope=col>PatientID</th><th scope=col>Age</th><th scope=col>Gender</th><th scope=col>Ethnicity</th><th scope=col>EducationLevel</th><th scope=col>BMI</th><th scope=col>Smoking</th><th scope=col>PhysicalActivity</th><th scope=col>DietQuality</th><th scope=col>SleepQuality</th><th scope=col>⋯</th><th scope=col>LungFunctionFEV1</th><th scope=col>LungFunctionFVC</th><th scope=col>Wheezing</th><th scope=col>ShortnessOfBreath</th><th scope=col>ChestTightness</th><th scope=col>Coughing</th><th scope=col>NighttimeSymptoms</th><th scope=col>ExerciseInduced</th><th scope=col>Diagnosis</th><th scope=col>DoctorInCharge</th></tr>\n",
       "\t<tr><th></th><th scope=col>&lt;int&gt;</th><th scope=col>&lt;int&gt;</th><th scope=col>&lt;int&gt;</th><th scope=col>&lt;int&gt;</th><th scope=col>&lt;int&gt;</th><th scope=col>&lt;dbl&gt;</th><th scope=col>&lt;int&gt;</th><th scope=col>&lt;dbl&gt;</th><th scope=col>&lt;dbl&gt;</th><th scope=col>&lt;dbl&gt;</th><th scope=col>⋯</th><th scope=col>&lt;dbl&gt;</th><th scope=col>&lt;dbl&gt;</th><th scope=col>&lt;int&gt;</th><th scope=col>&lt;int&gt;</th><th scope=col>&lt;int&gt;</th><th scope=col>&lt;int&gt;</th><th scope=col>&lt;int&gt;</th><th scope=col>&lt;int&gt;</th><th scope=col>&lt;int&gt;</th><th scope=col>&lt;chr&gt;</th></tr>\n",
       "</thead>\n",
       "<tbody>\n",
       "\t<tr><th scope=row>1</th><td>5034</td><td>63</td><td>0</td><td>1</td><td>0</td><td>15.84874</td><td>0</td><td>0.8944483</td><td>5.488696</td><td>8.701003</td><td>⋯</td><td>1.369051</td><td>4.941206</td><td>0</td><td>0</td><td>1</td><td>0</td><td>0</td><td>1</td><td>0</td><td>Dr_Confid</td></tr>\n",
       "\t<tr><th scope=row>2</th><td>5035</td><td>26</td><td>1</td><td>2</td><td>2</td><td>22.75704</td><td>0</td><td>5.8973295</td><td>6.341014</td><td>5.153966</td><td>⋯</td><td>2.197767</td><td>1.702393</td><td>1</td><td>0</td><td>0</td><td>1</td><td>1</td><td>1</td><td>0</td><td>Dr_Confid</td></tr>\n",
       "\t<tr><th scope=row>3</th><td>5036</td><td>57</td><td>0</td><td>2</td><td>1</td><td>18.39540</td><td>0</td><td>6.7393670</td><td>9.196237</td><td>6.840647</td><td>⋯</td><td>1.698011</td><td>5.022553</td><td>1</td><td>1</td><td>1</td><td>0</td><td>1</td><td>1</td><td>0</td><td>Dr_Confid</td></tr>\n",
       "\t<tr><th scope=row>4</th><td>5037</td><td>40</td><td>1</td><td>2</td><td>1</td><td>38.51528</td><td>0</td><td>1.4045027</td><td>5.826532</td><td>4.253036</td><td>⋯</td><td>3.032037</td><td>2.300159</td><td>1</td><td>0</td><td>1</td><td>1</td><td>1</td><td>0</td><td>0</td><td>Dr_Confid</td></tr>\n",
       "\t<tr><th scope=row>5</th><td>5038</td><td>61</td><td>0</td><td>0</td><td>3</td><td>19.28380</td><td>0</td><td>4.6044926</td><td>3.127048</td><td>9.625799</td><td>⋯</td><td>3.470589</td><td>3.067944</td><td>1</td><td>1</td><td>1</td><td>0</td><td>0</td><td>1</td><td>0</td><td>Dr_Confid</td></tr>\n",
       "\t<tr><th scope=row>6</th><td>5039</td><td>21</td><td>0</td><td>2</td><td>0</td><td>21.81298</td><td>0</td><td>0.4700439</td><td>1.759118</td><td>9.549262</td><td>⋯</td><td>2.328191</td><td>5.898515</td><td>1</td><td>0</td><td>1</td><td>0</td><td>0</td><td>1</td><td>0</td><td>Dr_Confid</td></tr>\n",
       "</tbody>\n",
       "</table>\n"
      ],
      "text/latex": [
       "A data.frame: 6 × 29\n",
       "\\begin{tabular}{r|lllllllllllllllllllll}\n",
       "  & PatientID & Age & Gender & Ethnicity & EducationLevel & BMI & Smoking & PhysicalActivity & DietQuality & SleepQuality & ⋯ & LungFunctionFEV1 & LungFunctionFVC & Wheezing & ShortnessOfBreath & ChestTightness & Coughing & NighttimeSymptoms & ExerciseInduced & Diagnosis & DoctorInCharge\\\\\n",
       "  & <int> & <int> & <int> & <int> & <int> & <dbl> & <int> & <dbl> & <dbl> & <dbl> & ⋯ & <dbl> & <dbl> & <int> & <int> & <int> & <int> & <int> & <int> & <int> & <chr>\\\\\n",
       "\\hline\n",
       "\t1 & 5034 & 63 & 0 & 1 & 0 & 15.84874 & 0 & 0.8944483 & 5.488696 & 8.701003 & ⋯ & 1.369051 & 4.941206 & 0 & 0 & 1 & 0 & 0 & 1 & 0 & Dr\\_Confid\\\\\n",
       "\t2 & 5035 & 26 & 1 & 2 & 2 & 22.75704 & 0 & 5.8973295 & 6.341014 & 5.153966 & ⋯ & 2.197767 & 1.702393 & 1 & 0 & 0 & 1 & 1 & 1 & 0 & Dr\\_Confid\\\\\n",
       "\t3 & 5036 & 57 & 0 & 2 & 1 & 18.39540 & 0 & 6.7393670 & 9.196237 & 6.840647 & ⋯ & 1.698011 & 5.022553 & 1 & 1 & 1 & 0 & 1 & 1 & 0 & Dr\\_Confid\\\\\n",
       "\t4 & 5037 & 40 & 1 & 2 & 1 & 38.51528 & 0 & 1.4045027 & 5.826532 & 4.253036 & ⋯ & 3.032037 & 2.300159 & 1 & 0 & 1 & 1 & 1 & 0 & 0 & Dr\\_Confid\\\\\n",
       "\t5 & 5038 & 61 & 0 & 0 & 3 & 19.28380 & 0 & 4.6044926 & 3.127048 & 9.625799 & ⋯ & 3.470589 & 3.067944 & 1 & 1 & 1 & 0 & 0 & 1 & 0 & Dr\\_Confid\\\\\n",
       "\t6 & 5039 & 21 & 0 & 2 & 0 & 21.81298 & 0 & 0.4700439 & 1.759118 & 9.549262 & ⋯ & 2.328191 & 5.898515 & 1 & 0 & 1 & 0 & 0 & 1 & 0 & Dr\\_Confid\\\\\n",
       "\\end{tabular}\n"
      ],
      "text/markdown": [
       "\n",
       "A data.frame: 6 × 29\n",
       "\n",
       "| <!--/--> | PatientID &lt;int&gt; | Age &lt;int&gt; | Gender &lt;int&gt; | Ethnicity &lt;int&gt; | EducationLevel &lt;int&gt; | BMI &lt;dbl&gt; | Smoking &lt;int&gt; | PhysicalActivity &lt;dbl&gt; | DietQuality &lt;dbl&gt; | SleepQuality &lt;dbl&gt; | ⋯ ⋯ | LungFunctionFEV1 &lt;dbl&gt; | LungFunctionFVC &lt;dbl&gt; | Wheezing &lt;int&gt; | ShortnessOfBreath &lt;int&gt; | ChestTightness &lt;int&gt; | Coughing &lt;int&gt; | NighttimeSymptoms &lt;int&gt; | ExerciseInduced &lt;int&gt; | Diagnosis &lt;int&gt; | DoctorInCharge &lt;chr&gt; |\n",
       "|---|---|---|---|---|---|---|---|---|---|---|---|---|---|---|---|---|---|---|---|---|---|\n",
       "| 1 | 5034 | 63 | 0 | 1 | 0 | 15.84874 | 0 | 0.8944483 | 5.488696 | 8.701003 | ⋯ | 1.369051 | 4.941206 | 0 | 0 | 1 | 0 | 0 | 1 | 0 | Dr_Confid |\n",
       "| 2 | 5035 | 26 | 1 | 2 | 2 | 22.75704 | 0 | 5.8973295 | 6.341014 | 5.153966 | ⋯ | 2.197767 | 1.702393 | 1 | 0 | 0 | 1 | 1 | 1 | 0 | Dr_Confid |\n",
       "| 3 | 5036 | 57 | 0 | 2 | 1 | 18.39540 | 0 | 6.7393670 | 9.196237 | 6.840647 | ⋯ | 1.698011 | 5.022553 | 1 | 1 | 1 | 0 | 1 | 1 | 0 | Dr_Confid |\n",
       "| 4 | 5037 | 40 | 1 | 2 | 1 | 38.51528 | 0 | 1.4045027 | 5.826532 | 4.253036 | ⋯ | 3.032037 | 2.300159 | 1 | 0 | 1 | 1 | 1 | 0 | 0 | Dr_Confid |\n",
       "| 5 | 5038 | 61 | 0 | 0 | 3 | 19.28380 | 0 | 4.6044926 | 3.127048 | 9.625799 | ⋯ | 3.470589 | 3.067944 | 1 | 1 | 1 | 0 | 0 | 1 | 0 | Dr_Confid |\n",
       "| 6 | 5039 | 21 | 0 | 2 | 0 | 21.81298 | 0 | 0.4700439 | 1.759118 | 9.549262 | ⋯ | 2.328191 | 5.898515 | 1 | 0 | 1 | 0 | 0 | 1 | 0 | Dr_Confid |\n",
       "\n"
      ],
      "text/plain": [
       "  PatientID Age Gender Ethnicity EducationLevel BMI      Smoking\n",
       "1 5034      63  0      1         0              15.84874 0      \n",
       "2 5035      26  1      2         2              22.75704 0      \n",
       "3 5036      57  0      2         1              18.39540 0      \n",
       "4 5037      40  1      2         1              38.51528 0      \n",
       "5 5038      61  0      0         3              19.28380 0      \n",
       "6 5039      21  0      2         0              21.81298 0      \n",
       "  PhysicalActivity DietQuality SleepQuality ⋯ LungFunctionFEV1 LungFunctionFVC\n",
       "1 0.8944483        5.488696    8.701003     ⋯ 1.369051         4.941206       \n",
       "2 5.8973295        6.341014    5.153966     ⋯ 2.197767         1.702393       \n",
       "3 6.7393670        9.196237    6.840647     ⋯ 1.698011         5.022553       \n",
       "4 1.4045027        5.826532    4.253036     ⋯ 3.032037         2.300159       \n",
       "5 4.6044926        3.127048    9.625799     ⋯ 3.470589         3.067944       \n",
       "6 0.4700439        1.759118    9.549262     ⋯ 2.328191         5.898515       \n",
       "  Wheezing ShortnessOfBreath ChestTightness Coughing NighttimeSymptoms\n",
       "1 0        0                 1              0        0                \n",
       "2 1        0                 0              1        1                \n",
       "3 1        1                 1              0        1                \n",
       "4 1        0                 1              1        1                \n",
       "5 1        1                 1              0        0                \n",
       "6 1        0                 1              0        0                \n",
       "  ExerciseInduced Diagnosis DoctorInCharge\n",
       "1 1               0         Dr_Confid     \n",
       "2 1               0         Dr_Confid     \n",
       "3 1               0         Dr_Confid     \n",
       "4 0               0         Dr_Confid     \n",
       "5 1               0         Dr_Confid     \n",
       "6 1               0         Dr_Confid     "
      ]
     },
     "metadata": {},
     "output_type": "display_data"
    }
   ],
   "source": [
    "head(astma)"
   ]
  },
  {
   "cell_type": "code",
   "execution_count": 5,
   "id": "8d4b84e8-1d3b-4e19-bb80-e8db4a5c9710",
   "metadata": {},
   "outputs": [
    {
     "name": "stdout",
     "output_type": "stream",
     "text": [
      "'data.frame':\t2392 obs. of  29 variables:\n",
      " $ PatientID             : int  5034 5035 5036 5037 5038 5039 5040 5041 5042 5043 ...\n",
      " $ Age                   : int  63 26 57 40 61 21 45 26 49 45 ...\n",
      " $ Gender                : int  0 1 0 1 0 0 1 0 1 1 ...\n",
      " $ Ethnicity             : int  1 2 2 2 0 2 1 0 1 1 ...\n",
      " $ EducationLevel        : int  0 2 1 1 3 0 1 1 2 1 ...\n",
      " $ BMI                   : num  15.8 22.8 18.4 38.5 19.3 ...\n",
      " $ Smoking               : int  0 0 0 0 0 0 1 1 0 0 ...\n",
      " $ PhysicalActivity      : num  0.894 5.897 6.739 1.405 4.604 ...\n",
      " $ DietQuality           : num  5.49 6.34 9.2 5.83 3.13 ...\n",
      " $ SleepQuality          : num  8.7 5.15 6.84 4.25 9.63 ...\n",
      " $ PollutionExposure     : num  7.388 1.97 1.461 0.582 0.981 ...\n",
      " $ PollenExposure        : num  2.86 7.46 1.45 7.57 3.05 ...\n",
      " $ DustExposure          : num  0.974 6.585 5.446 3.965 8.261 ...\n",
      " $ PetAllergy            : int  1 0 0 0 0 1 0 0 1 0 ...\n",
      " $ FamilyHistoryAsthma   : int  1 0 1 0 0 0 0 0 0 0 ...\n",
      " $ HistoryOfAllergies    : int  0 1 1 0 0 0 0 0 0 0 ...\n",
      " $ Eczema                : int  0 0 0 0 0 1 0 1 0 0 ...\n",
      " $ HayFever              : int  0 0 1 1 1 0 0 0 0 0 ...\n",
      " $ GastroesophagealReflux: int  0 0 0 0 0 0 0 0 1 0 ...\n",
      " $ LungFunctionFEV1      : num  1.37 2.2 1.7 3.03 3.47 ...\n",
      " $ LungFunctionFVC       : num  4.94 1.7 5.02 2.3 3.07 ...\n",
      " $ Wheezing              : int  0 1 1 1 1 1 1 1 1 1 ...\n",
      " $ ShortnessOfBreath     : int  0 0 1 0 1 0 1 0 1 0 ...\n",
      " $ ChestTightness        : int  1 0 1 1 1 1 1 0 1 0 ...\n",
      " $ Coughing              : int  0 1 0 1 0 0 0 1 1 0 ...\n",
      " $ NighttimeSymptoms     : int  0 1 1 1 0 0 0 1 0 1 ...\n",
      " $ ExerciseInduced       : int  1 1 1 0 1 1 0 1 0 1 ...\n",
      " $ Diagnosis             : int  0 0 0 0 0 0 0 0 0 0 ...\n",
      " $ DoctorInCharge        : chr  \"Dr_Confid\" \"Dr_Confid\" \"Dr_Confid\" \"Dr_Confid\" ...\n"
     ]
    }
   ],
   "source": [
    "str(astma)"
   ]
  },
  {
   "cell_type": "code",
   "execution_count": 6,
   "id": "8196a0e2-9042-4984-a49e-0e3d366935d2",
   "metadata": {},
   "outputs": [],
   "source": [
    "# The dominant majority of the patient do not have asthma"
   ]
  },
  {
   "cell_type": "code",
   "execution_count": 7,
   "id": "c2bbf581-e823-4010-9bde-42ac742407c9",
   "metadata": {},
   "outputs": [
    {
     "data": {
      "text/plain": [
       "\n",
       "   0    1 \n",
       "2268  124 "
      ]
     },
     "metadata": {},
     "output_type": "display_data"
    }
   ],
   "source": [
    "table(astma$Diagnosis)"
   ]
  },
  {
   "cell_type": "code",
   "execution_count": 8,
   "id": "d829bfad-44a3-4c38-9500-7b652cb55287",
   "metadata": {},
   "outputs": [
    {
     "data": {
      "text/html": [
       "FALSE"
      ],
      "text/latex": [
       "FALSE"
      ],
      "text/markdown": [
       "FALSE"
      ],
      "text/plain": [
       "[1] FALSE"
      ]
     },
     "metadata": {},
     "output_type": "display_data"
    }
   ],
   "source": [
    "any(is.na(astma))"
   ]
  },
  {
   "cell_type": "code",
   "execution_count": 9,
   "id": "5eab0a3a-8890-4d59-8570-5ed5b28cdc4c",
   "metadata": {},
   "outputs": [],
   "source": [
    "# No missing values. We can go directly to essential variables transformations"
   ]
  },
  {
   "cell_type": "markdown",
   "id": "aa3dd3a0-dabd-4637-9db9-ce6c4d3831fd",
   "metadata": {},
   "source": [
    "## Data preprocessing "
   ]
  },
  {
   "cell_type": "code",
   "execution_count": 10,
   "id": "e8fd0667-b180-4884-baba-b5e79776e58d",
   "metadata": {},
   "outputs": [],
   "source": [
    "# Patient id column is not needed. Let's remove it"
   ]
  },
  {
   "cell_type": "code",
   "execution_count": 11,
   "id": "48fe72ca-7f20-491a-b349-d1226e6feacc",
   "metadata": {},
   "outputs": [],
   "source": [
    "astma$PatientID <- NULL"
   ]
  },
  {
   "cell_type": "code",
   "execution_count": 12,
   "id": "57ff835b-b9d6-4cc5-91e1-cde60cd8dc64",
   "metadata": {},
   "outputs": [],
   "source": [
    "# Age"
   ]
  },
  {
   "cell_type": "code",
   "execution_count": 13,
   "id": "afb075ad-a27f-4190-b194-405a272d1cf6",
   "metadata": {},
   "outputs": [
    {
     "data": {
      "text/plain": [
       "   Min. 1st Qu.  Median    Mean 3rd Qu.    Max. \n",
       "   5.00   23.00   42.00   42.14   61.00   79.00 "
      ]
     },
     "metadata": {},
     "output_type": "display_data"
    }
   ],
   "source": [
    "summary(astma$Age)"
   ]
  },
  {
   "cell_type": "code",
   "execution_count": 14,
   "id": "52fac5ab-ea83-4137-a667-b302d3be2693",
   "metadata": {},
   "outputs": [
    {
     "data": {
      "text/plain": [
       "\n",
       "      Child Young Adult Middle-Aged      Senior \n",
       "        414         573         617         788 "
      ]
     },
     "metadata": {},
     "output_type": "display_data"
    }
   ],
   "source": [
    "# Create Age Categories\n",
    "astma$Age_Group <- cut(astma$Age, \n",
    "                       breaks = c(0, 17, 35, 55, Inf), \n",
    "                       labels = c(\"Child\", \"Young Adult\", \"Middle-Aged\", \"Senior\"),\n",
    "                       right = TRUE) \n",
    "\n",
    "# Check the distribution\n",
    "table(astma$Age_Group)"
   ]
  },
  {
   "cell_type": "code",
   "execution_count": 15,
   "id": "c2c37c4d-8516-420d-9d78-0b4743718e52",
   "metadata": {},
   "outputs": [],
   "source": [
    "astma$Age <- astma$Age_Group"
   ]
  },
  {
   "cell_type": "code",
   "execution_count": 16,
   "id": "8168808e-860d-4452-9669-ed897d215e2f",
   "metadata": {},
   "outputs": [],
   "source": [
    "# Ethnicity"
   ]
  },
  {
   "cell_type": "code",
   "execution_count": 17,
   "id": "368ab352-936f-4f69-83e7-9c90e0226f38",
   "metadata": {},
   "outputs": [
    {
     "data": {
      "text/plain": [
       "\n",
       "       Caucasian African American            Asian            Other \n",
       "            1465              475              229              223 "
      ]
     },
     "metadata": {},
     "output_type": "display_data"
    }
   ],
   "source": [
    "astma$Ethnicity <- factor(astma$Ethnicity, \n",
    "                          levels = c(0, 1, 2, 3), \n",
    "                          labels = c(\"Caucasian\", \"African American\", \"Asian\", \"Other\"))\n",
    "\n",
    "# Check the encoding\n",
    "table(astma$Ethnicity)"
   ]
  },
  {
   "cell_type": "code",
   "execution_count": 18,
   "id": "c181b062-a485-4f8e-85c9-188401459c27",
   "metadata": {},
   "outputs": [],
   "source": [
    "# Education"
   ]
  },
  {
   "cell_type": "code",
   "execution_count": 19,
   "id": "66eb35b8-1121-4492-93b6-789204539e04",
   "metadata": {},
   "outputs": [
    {
     "data": {
      "text/plain": [
       "\n",
       "  0   1   2   3 \n",
       "478 933 749 232 "
      ]
     },
     "metadata": {},
     "output_type": "display_data"
    }
   ],
   "source": [
    "table(astma$Education)"
   ]
  },
  {
   "cell_type": "code",
   "execution_count": 20,
   "id": "ffcf12cd-2ce7-40b0-a88c-39960599bafb",
   "metadata": {},
   "outputs": [
    {
     "data": {
      "text/plain": [
       "\n",
       "       None High School  Bachelor's      Higher \n",
       "        478         933         749         232 "
      ]
     },
     "metadata": {},
     "output_type": "display_data"
    }
   ],
   "source": [
    "astma$Education <- factor(astma$Education, \n",
    "                          levels = c(0, 1, 2, 3), \n",
    "                          labels = c(\"None\", \"High School\", \"Bachelor's\", \"Higher\"))\n",
    "\n",
    "# Check the encoding\n",
    "table(astma$Education)"
   ]
  },
  {
   "cell_type": "code",
   "execution_count": 21,
   "id": "7b7be6bf-5390-413a-b624-b1ee92cffbb5",
   "metadata": {},
   "outputs": [],
   "source": [
    "astma$EducationLevel <- astma$Education"
   ]
  },
  {
   "cell_type": "code",
   "execution_count": 22,
   "id": "d041dac8-b7a9-4e78-ab92-329fe3c95b76",
   "metadata": {},
   "outputs": [],
   "source": [
    "astma$EducationLevel <- NULL"
   ]
  },
  {
   "cell_type": "code",
   "execution_count": 23,
   "id": "3ba62fcd-d85a-43db-b107-c1c9630c3960",
   "metadata": {},
   "outputs": [],
   "source": [
    "# BMI"
   ]
  },
  {
   "cell_type": "code",
   "execution_count": 24,
   "id": "2d88ffb9-29ac-4049-90eb-b3d83c5ed6aa",
   "metadata": {},
   "outputs": [
    {
     "data": {
      "text/plain": [
       "   Min. 1st Qu.  Median    Mean 3rd Qu.    Max. \n",
       "  15.03   20.97   27.05   27.24   33.56   39.99 "
      ]
     },
     "metadata": {},
     "output_type": "display_data"
    }
   ],
   "source": [
    "summary(astma$BMI)"
   ]
  },
  {
   "cell_type": "code",
   "execution_count": 25,
   "id": "d7a3d285-b6c7-4f99-9b16-c9828ef08a7a",
   "metadata": {},
   "outputs": [
    {
     "data": {
      "text/plain": [
       "\n",
       "Underweight      Normal  Overweight       Obese \n",
       "        344         631         477         940 "
      ]
     },
     "metadata": {},
     "output_type": "display_data"
    }
   ],
   "source": [
    "# Convert BMI into Categories\n",
    "astma$BMI_Category <- cut(astma$BMI, \n",
    "                          breaks = c(0, 18.5, 24.9, 29.9, Inf), \n",
    "                          labels = c(\"Underweight\", \"Normal\", \"Overweight\", \"Obese\"),\n",
    "                          right = TRUE)\n",
    "\n",
    "# Check distribution\n",
    "table(astma$BMI_Category)"
   ]
  },
  {
   "cell_type": "code",
   "execution_count": 26,
   "id": "a5488501-7717-41c8-93d2-e5cea05f0e54",
   "metadata": {},
   "outputs": [],
   "source": [
    "astma$BMI <- astma$BMI_Category"
   ]
  },
  {
   "cell_type": "code",
   "execution_count": 27,
   "id": "f9005b3b-9c2c-44d3-8131-09c9835b3ac9",
   "metadata": {},
   "outputs": [],
   "source": [
    "astma$BMI_Category <- NULL"
   ]
  },
  {
   "cell_type": "code",
   "execution_count": 28,
   "id": "df81343e-12ea-46a1-9262-827ec17495cd",
   "metadata": {},
   "outputs": [],
   "source": [
    "# PhysicalActivity     "
   ]
  },
  {
   "cell_type": "code",
   "execution_count": 29,
   "id": "1e5fd27e-6e8b-4805-ad4f-dde35ba2a910",
   "metadata": {},
   "outputs": [
    {
     "data": {
      "text/plain": [
       "   Min. 1st Qu.  Median    Mean 3rd Qu.    Max. \n",
       "0.00174 2.57833 5.01688 5.05179 7.54023 9.99581 "
      ]
     },
     "metadata": {},
     "output_type": "display_data"
    }
   ],
   "source": [
    "summary(astma$PhysicalActivity)    "
   ]
  },
  {
   "cell_type": "code",
   "execution_count": 30,
   "id": "dab1be0e-2c94-4ec6-ae26-98a590c0ae9a",
   "metadata": {},
   "outputs": [
    {
     "data": {
      "text/plain": [
       "\n",
       "Sedentary  Moderate    Active \n",
       "      694       727       971 "
      ]
     },
     "metadata": {},
     "output_type": "display_data"
    }
   ],
   "source": [
    "# Convert PhysicalActivity into categorical levels\n",
    "astma$PhysicalActivity <- cut(astma$PhysicalActivity, \n",
    "                              breaks = c(0, 3, 6, Inf), \n",
    "                              labels = c(\"Sedentary\", \"Moderate\", \"Active\"),\n",
    "                              right = TRUE)\n",
    "\n",
    "# Check distribution\n",
    "table(astma$PhysicalActivity)"
   ]
  },
  {
   "cell_type": "code",
   "execution_count": 31,
   "id": "72a02c91-9689-4d74-9d5c-7ac776c2e1ee",
   "metadata": {},
   "outputs": [
    {
     "data": {
      "text/plain": [
       "\n",
       "     Poor   Average      Good Excellent \n",
       "      715       704       482       491 "
      ]
     },
     "metadata": {},
     "output_type": "display_data"
    },
    {
     "data": {
      "text/plain": [
       "\n",
       "   Low Medium   High \n",
       "   385    821   1186 "
      ]
     },
     "metadata": {},
     "output_type": "display_data"
    },
    {
     "data": {
      "text/plain": [
       "\n",
       "     Low Moderate     High \n",
       "     733      683      976 "
      ]
     },
     "metadata": {},
     "output_type": "display_data"
    },
    {
     "data": {
      "text/plain": [
       "\n",
       "     Low Moderate     High \n",
       "     689      715      988 "
      ]
     },
     "metadata": {},
     "output_type": "display_data"
    },
    {
     "data": {
      "text/plain": [
       "\n",
       "     Low Moderate     High \n",
       "     711      738      943 "
      ]
     },
     "metadata": {},
     "output_type": "display_data"
    }
   ],
   "source": [
    "# Convert DietQuality into categorical levels\n",
    "astma$DietQuality <- cut(astma$DietQuality, \n",
    "                         breaks = c(0, 3, 6, 8, 10), \n",
    "                         labels = c(\"Poor\", \"Average\", \"Good\", \"Excellent\"),\n",
    "                         right = TRUE)\n",
    "\n",
    "# Convert SleepQuality into categorical levels\n",
    "astma$SleepQuality <- cut(astma$SleepQuality, \n",
    "                          breaks = c(4, 5, 7, 10), \n",
    "                          labels = c(\"Low\", \"Medium\", \"High\"),\n",
    "                          right = TRUE)\n",
    "\n",
    "# Convert PollutionExposure into categorical levels\n",
    "astma$PollutionExposure <- cut(astma$PollutionExposure, \n",
    "                               breaks = c(0, 3, 6, 10), \n",
    "                               labels = c(\"Low\", \"Moderate\", \"High\"),\n",
    "                               right = TRUE)\n",
    "\n",
    "# Convert PollenExposure into categorical levels\n",
    "astma$PollenExposure <- cut(astma$PollenExposure, \n",
    "                            breaks = c(0, 3, 6, 10), \n",
    "                            labels = c(\"Low\", \"Moderate\", \"High\"),\n",
    "                            right = TRUE)\n",
    "\n",
    "# Convert DustExposure into categorical levels\n",
    "astma$DustExposure <- cut(astma$DustExposure, \n",
    "                          breaks = c(0, 3, 6, 10), \n",
    "                          labels = c(\"Low\", \"Moderate\", \"High\"),\n",
    "                          right = TRUE)\n",
    "\n",
    "# Check the distribution of the new variables\n",
    "table(astma$DietQuality)\n",
    "table(astma$SleepQuality)\n",
    "table(astma$PollutionExposure)\n",
    "table(astma$PollenExposure)\n",
    "table(astma$DustExposure)\n"
   ]
  },
  {
   "cell_type": "code",
   "execution_count": 32,
   "id": "e61d343a-53e4-4b62-b6a0-5de0cfe054ca",
   "metadata": {},
   "outputs": [
    {
     "data": {
      "text/plain": [
       "\n",
       "   Low Normal   High \n",
       "   726    816    850 "
      ]
     },
     "metadata": {},
     "output_type": "display_data"
    },
    {
     "data": {
      "text/plain": [
       "\n",
       "   Low Normal   High \n",
       "   791    532   1069 "
      ]
     },
     "metadata": {},
     "output_type": "display_data"
    }
   ],
   "source": [
    "# Convert LungFunctionFEV1 into categorical levels\n",
    "astma$LungFunctionFEV1 <- cut(astma$LungFunctionFEV1, \n",
    "                               breaks = c(0, 2, 3, 4), \n",
    "                               labels = c(\"Low\", \"Normal\", \"High\"),\n",
    "                               right = TRUE)\n",
    "\n",
    "# Convert LungFunctionFVC into categorical levels\n",
    "astma$LungFunctionFVC <- cut(astma$LungFunctionFVC, \n",
    "                              breaks = c(1.5, 3, 4, 6), \n",
    "                              labels = c(\"Low\", \"Normal\", \"High\"),\n",
    "                              right = TRUE)\n",
    "\n",
    "# Check the distribution of the new variables\n",
    "table(astma$LungFunctionFEV1)\n",
    "table(astma$LungFunctionFVC)\n"
   ]
  },
  {
   "cell_type": "code",
   "execution_count": 33,
   "id": "85486671-751f-46a2-a3fd-8a82ba5e2b1d",
   "metadata": {},
   "outputs": [],
   "source": [
    "# The name of the doctor in chare is of course confidential, so let's remove this column"
   ]
  },
  {
   "cell_type": "code",
   "execution_count": 34,
   "id": "7ea64ab1-7711-4734-9cc5-429ae2d669bf",
   "metadata": {},
   "outputs": [],
   "source": [
    "astma$DoctorInCharge <- NULL"
   ]
  },
  {
   "cell_type": "code",
   "execution_count": 35,
   "id": "c536cad4-d7fb-4898-808c-bf9b8cef235f",
   "metadata": {},
   "outputs": [
    {
     "data": {
      "text/plain": [
       "\n",
       "       Caucasian African American            Asian            Other \n",
       "            1465              475              229              223 "
      ]
     },
     "metadata": {},
     "output_type": "display_data"
    }
   ],
   "source": [
    "table(astma$Ethnicity)"
   ]
  },
  {
   "cell_type": "code",
   "execution_count": 36,
   "id": "e2af4ec0-bccc-4c6b-a2b4-f349d3b4a432",
   "metadata": {},
   "outputs": [],
   "source": [
    "# I think it is crucial to try to focus only on association rules of items that are meaningful for our analysis. For exemple, as we have overepresentation of Caucasian in Ethinicity variable, I would omit this column as well. We stay with more significant location/environmental factors,\n",
    "# such as the Dust Exposure or Pollution Exposure (which vary in accordance with different locations, in our dataset caee - ethinicities)"
   ]
  },
  {
   "cell_type": "code",
   "execution_count": 37,
   "id": "4e38a7e5-036d-462a-8a2e-67e9f128f10a",
   "metadata": {},
   "outputs": [],
   "source": [
    "astma$Ethnicity <- NULL"
   ]
  },
  {
   "cell_type": "code",
   "execution_count": 38,
   "id": "5a0bfe44-b37c-456a-9ed3-a64d90875e51",
   "metadata": {},
   "outputs": [
    {
     "name": "stdout",
     "output_type": "stream",
     "text": [
      "'data.frame':\t2392 obs. of  27 variables:\n",
      " $ Age                   : Factor w/ 4 levels \"Child\",\"Young Adult\",..: 4 2 4 3 4 2 3 2 3 3 ...\n",
      " $ Gender                : int  0 1 0 1 0 0 1 0 1 1 ...\n",
      " $ BMI                   : Factor w/ 4 levels \"Underweight\",..: 1 2 1 4 2 2 4 3 4 4 ...\n",
      " $ Smoking               : int  0 0 0 0 0 0 1 1 0 0 ...\n",
      " $ PhysicalActivity      : Factor w/ 3 levels \"Sedentary\",\"Moderate\",..: 1 2 3 1 2 1 3 3 1 1 ...\n",
      " $ DietQuality           : Factor w/ 4 levels \"Poor\",\"Average\",..: 2 3 4 2 2 1 3 1 2 1 ...\n",
      " $ SleepQuality          : Factor w/ 3 levels \"Low\",\"Medium\",..: 3 2 2 1 3 3 2 2 2 3 ...\n",
      " $ PollutionExposure     : Factor w/ 3 levels \"Low\",\"Moderate\",..: 3 1 1 1 1 1 3 3 2 1 ...\n",
      " $ PollenExposure        : Factor w/ 3 levels \"Low\",\"Moderate\",..: 1 3 1 3 2 3 2 3 3 1 ...\n",
      " $ DustExposure          : Factor w/ 3 levels \"Low\",\"Moderate\",..: 1 3 2 2 3 3 3 1 3 3 ...\n",
      " $ PetAllergy            : int  1 0 0 0 0 1 0 0 1 0 ...\n",
      " $ FamilyHistoryAsthma   : int  1 0 1 0 0 0 0 0 0 0 ...\n",
      " $ HistoryOfAllergies    : int  0 1 1 0 0 0 0 0 0 0 ...\n",
      " $ Eczema                : int  0 0 0 0 0 1 0 1 0 0 ...\n",
      " $ HayFever              : int  0 0 1 1 1 0 0 0 0 0 ...\n",
      " $ GastroesophagealReflux: int  0 0 0 0 0 0 0 0 1 0 ...\n",
      " $ LungFunctionFEV1      : Factor w/ 3 levels \"Low\",\"Normal\",..: 1 2 1 3 3 2 2 2 1 2 ...\n",
      " $ LungFunctionFVC       : Factor w/ 3 levels \"Low\",\"Normal\",..: 3 1 3 1 2 3 1 3 3 3 ...\n",
      " $ Wheezing              : int  0 1 1 1 1 1 1 1 1 1 ...\n",
      " $ ShortnessOfBreath     : int  0 0 1 0 1 0 1 0 1 0 ...\n",
      " $ ChestTightness        : int  1 0 1 1 1 1 1 0 1 0 ...\n",
      " $ Coughing              : int  0 1 0 1 0 0 0 1 1 0 ...\n",
      " $ NighttimeSymptoms     : int  0 1 1 1 0 0 0 1 0 1 ...\n",
      " $ ExerciseInduced       : int  1 1 1 0 1 1 0 1 0 1 ...\n",
      " $ Diagnosis             : int  0 0 0 0 0 0 0 0 0 0 ...\n",
      " $ Age_Group             : Factor w/ 4 levels \"Child\",\"Young Adult\",..: 4 2 4 3 4 2 3 2 3 3 ...\n",
      " $ Education             : Factor w/ 4 levels \"None\",\"High School\",..: 1 3 2 2 4 1 2 2 3 2 ...\n"
     ]
    }
   ],
   "source": [
    "str(astma)"
   ]
  },
  {
   "cell_type": "code",
   "execution_count": 39,
   "id": "8f5079df-7492-4832-a86e-887e84c86af2",
   "metadata": {},
   "outputs": [],
   "source": [
    "# Convert binary variables (0/1) into factors\n",
    "binary_vars <- c(\"Gender\", \"Smoking\", \"PetAllergy\", \"FamilyHistoryAsthma\", \n",
    "                  \"HistoryOfAllergies\", \"Eczema\", \"HayFever\", \"GastroesophagealReflux\", \n",
    "                  \"Wheezing\", \"ShortnessOfBreath\", \"ChestTightness\", \"Coughing\", \n",
    "                  \"NighttimeSymptoms\", \"ExerciseInduced\", \"Diagnosis\")\n",
    "\n",
    "astma[binary_vars] <- lapply(astma[binary_vars], function(x) factor(x, levels = c(0,1), labels = c(\"No\", \"Yes\")))"
   ]
  },
  {
   "cell_type": "code",
   "execution_count": 40,
   "id": "51ac2578-0edf-41a9-9784-de75372c42c8",
   "metadata": {},
   "outputs": [
    {
     "name": "stdout",
     "output_type": "stream",
     "text": [
      "'data.frame':\t2392 obs. of  27 variables:\n",
      " $ Age                   : Factor w/ 4 levels \"Child\",\"Young Adult\",..: 4 2 4 3 4 2 3 2 3 3 ...\n",
      " $ Gender                : Factor w/ 2 levels \"No\",\"Yes\": 1 2 1 2 1 1 2 1 2 2 ...\n",
      " $ BMI                   : Factor w/ 4 levels \"Underweight\",..: 1 2 1 4 2 2 4 3 4 4 ...\n",
      " $ Smoking               : Factor w/ 2 levels \"No\",\"Yes\": 1 1 1 1 1 1 2 2 1 1 ...\n",
      " $ PhysicalActivity      : Factor w/ 3 levels \"Sedentary\",\"Moderate\",..: 1 2 3 1 2 1 3 3 1 1 ...\n",
      " $ DietQuality           : Factor w/ 4 levels \"Poor\",\"Average\",..: 2 3 4 2 2 1 3 1 2 1 ...\n",
      " $ SleepQuality          : Factor w/ 3 levels \"Low\",\"Medium\",..: 3 2 2 1 3 3 2 2 2 3 ...\n",
      " $ PollutionExposure     : Factor w/ 3 levels \"Low\",\"Moderate\",..: 3 1 1 1 1 1 3 3 2 1 ...\n",
      " $ PollenExposure        : Factor w/ 3 levels \"Low\",\"Moderate\",..: 1 3 1 3 2 3 2 3 3 1 ...\n",
      " $ DustExposure          : Factor w/ 3 levels \"Low\",\"Moderate\",..: 1 3 2 2 3 3 3 1 3 3 ...\n",
      " $ PetAllergy            : Factor w/ 2 levels \"No\",\"Yes\": 2 1 1 1 1 2 1 1 2 1 ...\n",
      " $ FamilyHistoryAsthma   : Factor w/ 2 levels \"No\",\"Yes\": 2 1 2 1 1 1 1 1 1 1 ...\n",
      " $ HistoryOfAllergies    : Factor w/ 2 levels \"No\",\"Yes\": 1 2 2 1 1 1 1 1 1 1 ...\n",
      " $ Eczema                : Factor w/ 2 levels \"No\",\"Yes\": 1 1 1 1 1 2 1 2 1 1 ...\n",
      " $ HayFever              : Factor w/ 2 levels \"No\",\"Yes\": 1 1 2 2 2 1 1 1 1 1 ...\n",
      " $ GastroesophagealReflux: Factor w/ 2 levels \"No\",\"Yes\": 1 1 1 1 1 1 1 1 2 1 ...\n",
      " $ LungFunctionFEV1      : Factor w/ 3 levels \"Low\",\"Normal\",..: 1 2 1 3 3 2 2 2 1 2 ...\n",
      " $ LungFunctionFVC       : Factor w/ 3 levels \"Low\",\"Normal\",..: 3 1 3 1 2 3 1 3 3 3 ...\n",
      " $ Wheezing              : Factor w/ 2 levels \"No\",\"Yes\": 1 2 2 2 2 2 2 2 2 2 ...\n",
      " $ ShortnessOfBreath     : Factor w/ 2 levels \"No\",\"Yes\": 1 1 2 1 2 1 2 1 2 1 ...\n",
      " $ ChestTightness        : Factor w/ 2 levels \"No\",\"Yes\": 2 1 2 2 2 2 2 1 2 1 ...\n",
      " $ Coughing              : Factor w/ 2 levels \"No\",\"Yes\": 1 2 1 2 1 1 1 2 2 1 ...\n",
      " $ NighttimeSymptoms     : Factor w/ 2 levels \"No\",\"Yes\": 1 2 2 2 1 1 1 2 1 2 ...\n",
      " $ ExerciseInduced       : Factor w/ 2 levels \"No\",\"Yes\": 2 2 2 1 2 2 1 2 1 2 ...\n",
      " $ Diagnosis             : Factor w/ 2 levels \"No\",\"Yes\": 1 1 1 1 1 1 1 1 1 1 ...\n",
      " $ Age_Group             : Factor w/ 4 levels \"Child\",\"Young Adult\",..: 4 2 4 3 4 2 3 2 3 3 ...\n",
      " $ Education             : Factor w/ 4 levels \"None\",\"High School\",..: 1 3 2 2 4 1 2 2 3 2 ...\n"
     ]
    }
   ],
   "source": [
    "str(astma)"
   ]
  },
  {
   "cell_type": "code",
   "execution_count": 41,
   "id": "334ff438-01bf-4690-82fe-b27fcda6401d",
   "metadata": {},
   "outputs": [],
   "source": [
    "# Let's ensure there are no missing values"
   ]
  },
  {
   "cell_type": "code",
   "execution_count": 42,
   "id": "7e50dc07-fd79-4ddf-a11e-8abfe58621e0",
   "metadata": {},
   "outputs": [
    {
     "data": {
      "text/html": [
       "FALSE"
      ],
      "text/latex": [
       "FALSE"
      ],
      "text/markdown": [
       "FALSE"
      ],
      "text/plain": [
       "[1] FALSE"
      ]
     },
     "metadata": {},
     "output_type": "display_data"
    }
   ],
   "source": [
    "any(is.na(astma))"
   ]
  },
  {
   "cell_type": "markdown",
   "id": "a90c35cf-93e0-4132-a30c-0eb5e8c78272",
   "metadata": {},
   "source": [
    "## Frequent items comparison"
   ]
  },
  {
   "cell_type": "code",
   "execution_count": 43,
   "id": "99b55370-1bb3-4c37-ab51-6619604bbb1a",
   "metadata": {},
   "outputs": [],
   "source": [
    "# Load required packages"
   ]
  },
  {
   "cell_type": "code",
   "execution_count": 44,
   "id": "f9428662-b9d3-4129-b414-b83be6dcfd55",
   "metadata": {},
   "outputs": [
    {
     "name": "stderr",
     "output_type": "stream",
     "text": [
      "Instalowanie pakietu w 'C:/Users/grzes/AppData/Local/R/win-library/4.4'\n",
      "(ponieważ 'lib' nie jest określony)\n",
      "\n"
     ]
    },
    {
     "name": "stdout",
     "output_type": "stream",
     "text": [
      "pakiet 'arules' został pomyślnie rozpakowany oraz sumy MD5 zostały sprawdzone\n",
      "\n",
      "Pobrane pakiety binarne są w\n",
      "\tC:\\Users\\grzes\\AppData\\Local\\Temp\\RtmpywaCk6\\downloaded_packages\n"
     ]
    }
   ],
   "source": [
    "install.packages(\"arules\")"
   ]
  },
  {
   "cell_type": "code",
   "execution_count": 45,
   "id": "831738f6-e1d9-4110-8dc1-263ebfa95566",
   "metadata": {},
   "outputs": [
    {
     "name": "stderr",
     "output_type": "stream",
     "text": [
      "Warning message:\n",
      "\"pakiet 'arules' został zbudowany w wersji R 4.4.2\"\n",
      "Ładowanie wymaganego pakietu: Matrix\n",
      "\n",
      "\n",
      "Dołączanie pakietu: 'arules'\n",
      "\n",
      "\n",
      "Następujące obiekty zostały zakryte z 'package:base':\n",
      "\n",
      "    abbreviate, write\n",
      "\n",
      "\n",
      "Warning message:\n",
      "\"pakiet 'arulesViz' został zbudowany w wersji R 4.4.2\"\n"
     ]
    }
   ],
   "source": [
    "library(arules)\n",
    "library(arulesViz)"
   ]
  },
  {
   "cell_type": "code",
   "execution_count": 46,
   "id": "4c0bcf4a-1f1e-443a-af0d-13da752f8b4a",
   "metadata": {},
   "outputs": [],
   "source": [
    "# Let's convert the data to transactional format. This will enable the system to read the data as each row represents the transactions with different items"
   ]
  },
  {
   "cell_type": "code",
   "execution_count": 47,
   "id": "6eae4944-e1a8-4da0-94ae-e6df032757cd",
   "metadata": {},
   "outputs": [],
   "source": [
    "astma_trans <- as(astma, \"transactions\")"
   ]
  },
  {
   "cell_type": "code",
   "execution_count": 48,
   "id": "ab272b4e-163b-48ca-bbc0-b78b2c9954f4",
   "metadata": {
    "scrolled": true
   },
   "outputs": [
    {
     "name": "stdout",
     "output_type": "stream",
     "text": [
      "    items                         transactionID\n",
      "[1] {Age=Senior,                               \n",
      "     Gender=No,                                \n",
      "     BMI=Underweight,                          \n",
      "     Smoking=No,                               \n",
      "     PhysicalActivity=Sedentary,               \n",
      "     DietQuality=Average,                      \n",
      "     SleepQuality=High,                        \n",
      "     PollutionExposure=High,                   \n",
      "     PollenExposure=Low,                       \n",
      "     DustExposure=Low,                         \n",
      "     PetAllergy=Yes,                           \n",
      "     FamilyHistoryAsthma=Yes,                  \n",
      "     HistoryOfAllergies=No,                    \n",
      "     Eczema=No,                                \n",
      "     HayFever=No,                              \n",
      "     GastroesophagealReflux=No,                \n",
      "     LungFunctionFEV1=Low,                     \n",
      "     LungFunctionFVC=High,                     \n",
      "     Wheezing=No,                              \n",
      "     ShortnessOfBreath=No,                     \n",
      "     ChestTightness=Yes,                       \n",
      "     Coughing=No,                              \n",
      "     NighttimeSymptoms=No,                     \n",
      "     ExerciseInduced=Yes,                      \n",
      "     Diagnosis=No,                             \n",
      "     Age_Group=Senior,                         \n",
      "     Education=None}                          1\n",
      "[2] {Age=Young Adult,                          \n",
      "     Gender=Yes,                               \n",
      "     BMI=Normal,                               \n",
      "     Smoking=No,                               \n",
      "     PhysicalActivity=Moderate,                \n",
      "     DietQuality=Good,                         \n",
      "     SleepQuality=Medium,                      \n",
      "     PollutionExposure=Low,                    \n",
      "     PollenExposure=High,                      \n",
      "     DustExposure=High,                        \n",
      "     PetAllergy=No,                            \n",
      "     FamilyHistoryAsthma=No,                   \n",
      "     HistoryOfAllergies=Yes,                   \n",
      "     Eczema=No,                                \n",
      "     HayFever=No,                              \n",
      "     GastroesophagealReflux=No,                \n",
      "     LungFunctionFEV1=Normal,                  \n",
      "     LungFunctionFVC=Low,                      \n",
      "     Wheezing=Yes,                             \n",
      "     ShortnessOfBreath=No,                     \n",
      "     ChestTightness=No,                        \n",
      "     Coughing=Yes,                             \n",
      "     NighttimeSymptoms=Yes,                    \n",
      "     ExerciseInduced=Yes,                      \n",
      "     Diagnosis=No,                             \n",
      "     Age_Group=Young Adult,                    \n",
      "     Education=Bachelor's}                    2\n",
      "[3] {Age=Senior,                               \n",
      "     Gender=No,                                \n",
      "     BMI=Underweight,                          \n",
      "     Smoking=No,                               \n",
      "     PhysicalActivity=Active,                  \n",
      "     DietQuality=Excellent,                    \n",
      "     SleepQuality=Medium,                      \n",
      "     PollutionExposure=Low,                    \n",
      "     PollenExposure=Low,                       \n",
      "     DustExposure=Moderate,                    \n",
      "     PetAllergy=No,                            \n",
      "     FamilyHistoryAsthma=Yes,                  \n",
      "     HistoryOfAllergies=Yes,                   \n",
      "     Eczema=No,                                \n",
      "     HayFever=Yes,                             \n",
      "     GastroesophagealReflux=No,                \n",
      "     LungFunctionFEV1=Low,                     \n",
      "     LungFunctionFVC=High,                     \n",
      "     Wheezing=Yes,                             \n",
      "     ShortnessOfBreath=Yes,                    \n",
      "     ChestTightness=Yes,                       \n",
      "     Coughing=No,                              \n",
      "     NighttimeSymptoms=Yes,                    \n",
      "     ExerciseInduced=Yes,                      \n",
      "     Diagnosis=No,                             \n",
      "     Age_Group=Senior,                         \n",
      "     Education=High School}                   3\n",
      "[4] {Age=Middle-Aged,                          \n",
      "     Gender=Yes,                               \n",
      "     BMI=Obese,                                \n",
      "     Smoking=No,                               \n",
      "     PhysicalActivity=Sedentary,               \n",
      "     DietQuality=Average,                      \n",
      "     SleepQuality=Low,                         \n",
      "     PollutionExposure=Low,                    \n",
      "     PollenExposure=High,                      \n",
      "     DustExposure=Moderate,                    \n",
      "     PetAllergy=No,                            \n",
      "     FamilyHistoryAsthma=No,                   \n",
      "     HistoryOfAllergies=No,                    \n",
      "     Eczema=No,                                \n",
      "     HayFever=Yes,                             \n",
      "     GastroesophagealReflux=No,                \n",
      "     LungFunctionFEV1=High,                    \n",
      "     LungFunctionFVC=Low,                      \n",
      "     Wheezing=Yes,                             \n",
      "     ShortnessOfBreath=No,                     \n",
      "     ChestTightness=Yes,                       \n",
      "     Coughing=Yes,                             \n",
      "     NighttimeSymptoms=Yes,                    \n",
      "     ExerciseInduced=No,                       \n",
      "     Diagnosis=No,                             \n",
      "     Age_Group=Middle-Aged,                    \n",
      "     Education=High School}                   4\n",
      "[5] {Age=Senior,                               \n",
      "     Gender=No,                                \n",
      "     BMI=Normal,                               \n",
      "     Smoking=No,                               \n",
      "     PhysicalActivity=Moderate,                \n",
      "     DietQuality=Average,                      \n",
      "     SleepQuality=High,                        \n",
      "     PollutionExposure=Low,                    \n",
      "     PollenExposure=Moderate,                  \n",
      "     DustExposure=High,                        \n",
      "     PetAllergy=No,                            \n",
      "     FamilyHistoryAsthma=No,                   \n",
      "     HistoryOfAllergies=No,                    \n",
      "     Eczema=No,                                \n",
      "     HayFever=Yes,                             \n",
      "     GastroesophagealReflux=No,                \n",
      "     LungFunctionFEV1=High,                    \n",
      "     LungFunctionFVC=Normal,                   \n",
      "     Wheezing=Yes,                             \n",
      "     ShortnessOfBreath=Yes,                    \n",
      "     ChestTightness=Yes,                       \n",
      "     Coughing=No,                              \n",
      "     NighttimeSymptoms=No,                     \n",
      "     ExerciseInduced=Yes,                      \n",
      "     Diagnosis=No,                             \n",
      "     Age_Group=Senior,                         \n",
      "     Education=Higher}                        5\n"
     ]
    }
   ],
   "source": [
    "# View first 5 transactions\n",
    "inspect(astma_trans[1:5])"
   ]
  },
  {
   "cell_type": "code",
   "execution_count": 49,
   "id": "af51a4eb-75af-425d-ac4e-f01675e9249d",
   "metadata": {},
   "outputs": [
    {
     "data": {
      "text/plain": [
       "transactions as itemMatrix in sparse format with\n",
       " 2392 rows (elements/itemsets/transactions) and\n",
       " 71 columns (items) and a density of 0.3802817 \n",
       "\n",
       "most frequent items:\n",
       "             Diagnosis=No                Smoking=No GastroesophagealReflux=No \n",
       "                     2268                      2053                      2014 \n",
       "            PetAllergy=No                 Eczema=No                   (Other) \n",
       "                     1995                      1933                     54321 \n",
       "\n",
       "element (itemset/transaction) length distribution:\n",
       "sizes\n",
       "  27 \n",
       "2392 \n",
       "\n",
       "   Min. 1st Qu.  Median    Mean 3rd Qu.    Max. \n",
       "     27      27      27      27      27      27 \n",
       "\n",
       "includes extended item information - examples:\n",
       "           labels variables      levels\n",
       "1       Age=Child       Age       Child\n",
       "2 Age=Young Adult       Age Young Adult\n",
       "3 Age=Middle-Aged       Age Middle-Aged\n",
       "\n",
       "includes extended transaction information - examples:\n",
       "  transactionID\n",
       "1             1\n",
       "2             2\n",
       "3             3"
      ]
     },
     "metadata": {},
     "output_type": "display_data"
    }
   ],
   "source": [
    "summary(astma_trans)"
   ]
  },
  {
   "cell_type": "code",
   "execution_count": 50,
   "id": "22e977e4-cbfe-4c8d-9dd0-d26531db1073",
   "metadata": {},
   "outputs": [],
   "source": [
    "# On average 38% of each row is filled out. That would indicate we may find some association rules - the density is not too high"
   ]
  },
  {
   "cell_type": "markdown",
   "id": "2d38edea-7792-4175-9f79-570832264dc2",
   "metadata": {},
   "source": [
    "## Let's compare the frequency of the items in the general population (astma_trans) and the subgroup with diagnosed asthma (Diagnose=Yes)"
   ]
  },
  {
   "cell_type": "code",
   "execution_count": 51,
   "id": "6fecea8f-ba78-439a-9e24-639b23d4b904",
   "metadata": {},
   "outputs": [],
   "source": [
    "# Items support from non-asthmatic population"
   ]
  },
  {
   "cell_type": "code",
   "execution_count": 52,
   "id": "8d05f8aa-43ab-499b-a0b8-362ffe23bb33",
   "metadata": {},
   "outputs": [],
   "source": [
    "asthma_no <- subset(astma_trans, items %in% \"Diagnosis=No\")"
   ]
  },
  {
   "cell_type": "code",
   "execution_count": 53,
   "id": "a88cc40d-da2c-459d-a91b-dd7a03fdfd98",
   "metadata": {},
   "outputs": [
    {
     "data": {
      "text/html": [
       "<style>\n",
       ".dl-inline {width: auto; margin:0; padding: 0}\n",
       ".dl-inline>dt, .dl-inline>dd {float: none; width: auto; display: inline-block}\n",
       ".dl-inline>dt::after {content: \":\\0020\"; padding-right: .5ex}\n",
       ".dl-inline>dt:not(:first-of-type) {padding-left: .5ex}\n",
       "</style><dl class=dl-inline><dt>Diagnosis=No</dt><dd>1</dd><dt>Smoking=No</dt><dd>0.856701940035273</dd><dt>GastroesophagealReflux=No</dt><dd>0.843915343915344</dd><dt>PetAllergy=No</dt><dd>0.83289241622575</dd><dt>Eczema=No</dt><dd>0.807319223985891</dd><dt>HayFever=No</dt><dd>0.744708994708995</dd><dt>FamilyHistoryAsthma=No</dt><dd>0.698853615520282</dd><dt>NighttimeSymptoms=Yes</dt><dd>0.604938271604938</dd><dt>HistoryOfAllergies=No</dt><dd>0.600529100529101</dd><dt>ExerciseInduced=Yes</dt><dd>0.598765432098765</dd><dt>Wheezing=Yes</dt><dd>0.593033509700176</dd><dt>ChestTightness=Yes</dt><dd>0.507936507936508</dd><dt>Gender=No</dt><dd>0.50705467372134</dd><dt>Coughing=Yes</dt><dd>0.506172839506173</dd><dt>ShortnessOfBreath=Yes</dt><dd>0.502204585537919</dd><dt>ShortnessOfBreath=No</dt><dd>0.497795414462081</dd><dt>Coughing=No</dt><dd>0.493827160493827</dd><dt>Gender=Yes</dt><dd>0.49294532627866</dd><dt>SleepQuality=High</dt><dd>0.49294532627866</dd><dt>ChestTightness=No</dt><dd>0.492063492063492</dd><dt>LungFunctionFVC=High</dt><dd>0.446649029982363</dd><dt>PollenExposure=High</dt><dd>0.411816578483245</dd><dt>Wheezing=No</dt><dd>0.406966490299824</dd><dt>PhysicalActivity=Active</dt><dd>0.40652557319224</dd><dt>PollutionExposure=High</dt><dd>0.40652557319224</dd><dt>ExerciseInduced=No</dt><dd>0.401234567901235</dd><dt>HistoryOfAllergies=Yes</dt><dd>0.399470899470899</dd><dt>DustExposure=High</dt><dd>0.396384479717813</dd><dt>NighttimeSymptoms=No</dt><dd>0.395061728395062</dd><dt>BMI=Obese</dt><dd>0.394620811287478</dd><dt>Education=High School</dt><dd>0.388888888888889</dd><dt>LungFunctionFEV1=High</dt><dd>0.355379188712522</dd><dt>SleepQuality=Medium</dt><dd>0.343915343915344</dd><dt>LungFunctionFEV1=Normal</dt><dd>0.338183421516755</dd><dt>LungFunctionFVC=Low</dt><dd>0.333774250440917</dd><dt>Age=Senior</dt><dd>0.329365079365079</dd><dt>Age_Group=Senior</dt><dd>0.329365079365079</dd><dt>Education=Bachelor's</dt><dd>0.317460317460317</dd><dt>DustExposure=Moderate</dt><dd>0.309082892416226</dd><dt>LungFunctionFEV1=Low</dt><dd>0.306437389770723</dd><dt>PollutionExposure=Low</dt><dd>0.30379188712522</dd><dt>PollenExposure=Moderate</dt><dd>0.301146384479718</dd><dt>FamilyHistoryAsthma=Yes</dt><dd>0.301146384479718</dd><dt>PhysicalActivity=Moderate</dt><dd>0.30026455026455</dd><dt>DietQuality=Poor</dt><dd>0.297619047619048</dd><dt>DietQuality=Average</dt><dd>0.294973544973545</dd><dt>DustExposure=Low</dt><dd>0.294532627865961</dd><dt>PhysicalActivity=Sedentary</dt><dd>0.29320987654321</dd><dt>PollutionExposure=Moderate</dt><dd>0.28968253968254</dd><dt>PollenExposure=Low</dt><dd>0.287037037037037</dd><dt>BMI=Normal</dt><dd>0.262345679012346</dd><dt>Age=Middle-Aged</dt><dd>0.259259259259259</dd><dt>Age_Group=Middle-Aged</dt><dd>0.259259259259259</dd><dt>HayFever=Yes</dt><dd>0.255291005291005</dd><dt>Age=Young Adult</dt><dd>0.239858906525573</dd><dt>Age_Group=Young Adult</dt><dd>0.239858906525573</dd><dt>LungFunctionFVC=Normal</dt><dd>0.21957671957672</dd><dt>DietQuality=Excellent</dt><dd>0.205026455026455</dd><dt>DietQuality=Good</dt><dd>0.202380952380952</dd><dt>Education=None</dt><dd>0.19973544973545</dd><dt>BMI=Overweight</dt><dd>0.198412698412698</dd><dt>Eczema=Yes</dt><dd>0.192680776014109</dd><dt>Age=Child</dt><dd>0.171516754850088</dd><dt>Age_Group=Child</dt><dd>0.171516754850088</dd><dt>PetAllergy=Yes</dt><dd>0.16710758377425</dd><dt>SleepQuality=Low</dt><dd>0.163139329805996</dd><dt>GastroesophagealReflux=Yes</dt><dd>0.156084656084656</dd><dt>BMI=Underweight</dt><dd>0.144620811287478</dd><dt>Smoking=Yes</dt><dd>0.143298059964727</dd><dt>Education=Higher</dt><dd>0.0939153439153439</dd><dt>Diagnosis=Yes</dt><dd>0</dd></dl>\n"
      ],
      "text/latex": [
       "\\begin{description*}\n",
       "\\item[Diagnosis=No] 1\n",
       "\\item[Smoking=No] 0.856701940035273\n",
       "\\item[GastroesophagealReflux=No] 0.843915343915344\n",
       "\\item[PetAllergy=No] 0.83289241622575\n",
       "\\item[Eczema=No] 0.807319223985891\n",
       "\\item[HayFever=No] 0.744708994708995\n",
       "\\item[FamilyHistoryAsthma=No] 0.698853615520282\n",
       "\\item[NighttimeSymptoms=Yes] 0.604938271604938\n",
       "\\item[HistoryOfAllergies=No] 0.600529100529101\n",
       "\\item[ExerciseInduced=Yes] 0.598765432098765\n",
       "\\item[Wheezing=Yes] 0.593033509700176\n",
       "\\item[ChestTightness=Yes] 0.507936507936508\n",
       "\\item[Gender=No] 0.50705467372134\n",
       "\\item[Coughing=Yes] 0.506172839506173\n",
       "\\item[ShortnessOfBreath=Yes] 0.502204585537919\n",
       "\\item[ShortnessOfBreath=No] 0.497795414462081\n",
       "\\item[Coughing=No] 0.493827160493827\n",
       "\\item[Gender=Yes] 0.49294532627866\n",
       "\\item[SleepQuality=High] 0.49294532627866\n",
       "\\item[ChestTightness=No] 0.492063492063492\n",
       "\\item[LungFunctionFVC=High] 0.446649029982363\n",
       "\\item[PollenExposure=High] 0.411816578483245\n",
       "\\item[Wheezing=No] 0.406966490299824\n",
       "\\item[PhysicalActivity=Active] 0.40652557319224\n",
       "\\item[PollutionExposure=High] 0.40652557319224\n",
       "\\item[ExerciseInduced=No] 0.401234567901235\n",
       "\\item[HistoryOfAllergies=Yes] 0.399470899470899\n",
       "\\item[DustExposure=High] 0.396384479717813\n",
       "\\item[NighttimeSymptoms=No] 0.395061728395062\n",
       "\\item[BMI=Obese] 0.394620811287478\n",
       "\\item[Education=High School] 0.388888888888889\n",
       "\\item[LungFunctionFEV1=High] 0.355379188712522\n",
       "\\item[SleepQuality=Medium] 0.343915343915344\n",
       "\\item[LungFunctionFEV1=Normal] 0.338183421516755\n",
       "\\item[LungFunctionFVC=Low] 0.333774250440917\n",
       "\\item[Age=Senior] 0.329365079365079\n",
       "\\item[Age\\textbackslash{}\\_Group=Senior] 0.329365079365079\n",
       "\\item[Education=Bachelor's] 0.317460317460317\n",
       "\\item[DustExposure=Moderate] 0.309082892416226\n",
       "\\item[LungFunctionFEV1=Low] 0.306437389770723\n",
       "\\item[PollutionExposure=Low] 0.30379188712522\n",
       "\\item[PollenExposure=Moderate] 0.301146384479718\n",
       "\\item[FamilyHistoryAsthma=Yes] 0.301146384479718\n",
       "\\item[PhysicalActivity=Moderate] 0.30026455026455\n",
       "\\item[DietQuality=Poor] 0.297619047619048\n",
       "\\item[DietQuality=Average] 0.294973544973545\n",
       "\\item[DustExposure=Low] 0.294532627865961\n",
       "\\item[PhysicalActivity=Sedentary] 0.29320987654321\n",
       "\\item[PollutionExposure=Moderate] 0.28968253968254\n",
       "\\item[PollenExposure=Low] 0.287037037037037\n",
       "\\item[BMI=Normal] 0.262345679012346\n",
       "\\item[Age=Middle-Aged] 0.259259259259259\n",
       "\\item[Age\\textbackslash{}\\_Group=Middle-Aged] 0.259259259259259\n",
       "\\item[HayFever=Yes] 0.255291005291005\n",
       "\\item[Age=Young Adult] 0.239858906525573\n",
       "\\item[Age\\textbackslash{}\\_Group=Young Adult] 0.239858906525573\n",
       "\\item[LungFunctionFVC=Normal] 0.21957671957672\n",
       "\\item[DietQuality=Excellent] 0.205026455026455\n",
       "\\item[DietQuality=Good] 0.202380952380952\n",
       "\\item[Education=None] 0.19973544973545\n",
       "\\item[BMI=Overweight] 0.198412698412698\n",
       "\\item[Eczema=Yes] 0.192680776014109\n",
       "\\item[Age=Child] 0.171516754850088\n",
       "\\item[Age\\textbackslash{}\\_Group=Child] 0.171516754850088\n",
       "\\item[PetAllergy=Yes] 0.16710758377425\n",
       "\\item[SleepQuality=Low] 0.163139329805996\n",
       "\\item[GastroesophagealReflux=Yes] 0.156084656084656\n",
       "\\item[BMI=Underweight] 0.144620811287478\n",
       "\\item[Smoking=Yes] 0.143298059964727\n",
       "\\item[Education=Higher] 0.0939153439153439\n",
       "\\item[Diagnosis=Yes] 0\n",
       "\\end{description*}\n"
      ],
      "text/markdown": [
       "Diagnosis=No\n",
       ":   1Smoking=No\n",
       ":   0.856701940035273GastroesophagealReflux=No\n",
       ":   0.843915343915344PetAllergy=No\n",
       ":   0.83289241622575Eczema=No\n",
       ":   0.807319223985891HayFever=No\n",
       ":   0.744708994708995FamilyHistoryAsthma=No\n",
       ":   0.698853615520282NighttimeSymptoms=Yes\n",
       ":   0.604938271604938HistoryOfAllergies=No\n",
       ":   0.600529100529101ExerciseInduced=Yes\n",
       ":   0.598765432098765Wheezing=Yes\n",
       ":   0.593033509700176ChestTightness=Yes\n",
       ":   0.507936507936508Gender=No\n",
       ":   0.50705467372134Coughing=Yes\n",
       ":   0.506172839506173ShortnessOfBreath=Yes\n",
       ":   0.502204585537919ShortnessOfBreath=No\n",
       ":   0.497795414462081Coughing=No\n",
       ":   0.493827160493827Gender=Yes\n",
       ":   0.49294532627866SleepQuality=High\n",
       ":   0.49294532627866ChestTightness=No\n",
       ":   0.492063492063492LungFunctionFVC=High\n",
       ":   0.446649029982363PollenExposure=High\n",
       ":   0.411816578483245Wheezing=No\n",
       ":   0.406966490299824PhysicalActivity=Active\n",
       ":   0.40652557319224PollutionExposure=High\n",
       ":   0.40652557319224ExerciseInduced=No\n",
       ":   0.401234567901235HistoryOfAllergies=Yes\n",
       ":   0.399470899470899DustExposure=High\n",
       ":   0.396384479717813NighttimeSymptoms=No\n",
       ":   0.395061728395062BMI=Obese\n",
       ":   0.394620811287478Education=High School\n",
       ":   0.388888888888889LungFunctionFEV1=High\n",
       ":   0.355379188712522SleepQuality=Medium\n",
       ":   0.343915343915344LungFunctionFEV1=Normal\n",
       ":   0.338183421516755LungFunctionFVC=Low\n",
       ":   0.333774250440917Age=Senior\n",
       ":   0.329365079365079Age_Group=Senior\n",
       ":   0.329365079365079Education=Bachelor's\n",
       ":   0.317460317460317DustExposure=Moderate\n",
       ":   0.309082892416226LungFunctionFEV1=Low\n",
       ":   0.306437389770723PollutionExposure=Low\n",
       ":   0.30379188712522PollenExposure=Moderate\n",
       ":   0.301146384479718FamilyHistoryAsthma=Yes\n",
       ":   0.301146384479718PhysicalActivity=Moderate\n",
       ":   0.30026455026455DietQuality=Poor\n",
       ":   0.297619047619048DietQuality=Average\n",
       ":   0.294973544973545DustExposure=Low\n",
       ":   0.294532627865961PhysicalActivity=Sedentary\n",
       ":   0.29320987654321PollutionExposure=Moderate\n",
       ":   0.28968253968254PollenExposure=Low\n",
       ":   0.287037037037037BMI=Normal\n",
       ":   0.262345679012346Age=Middle-Aged\n",
       ":   0.259259259259259Age_Group=Middle-Aged\n",
       ":   0.259259259259259HayFever=Yes\n",
       ":   0.255291005291005Age=Young Adult\n",
       ":   0.239858906525573Age_Group=Young Adult\n",
       ":   0.239858906525573LungFunctionFVC=Normal\n",
       ":   0.21957671957672DietQuality=Excellent\n",
       ":   0.205026455026455DietQuality=Good\n",
       ":   0.202380952380952Education=None\n",
       ":   0.19973544973545BMI=Overweight\n",
       ":   0.198412698412698Eczema=Yes\n",
       ":   0.192680776014109Age=Child\n",
       ":   0.171516754850088Age_Group=Child\n",
       ":   0.171516754850088PetAllergy=Yes\n",
       ":   0.16710758377425SleepQuality=Low\n",
       ":   0.163139329805996GastroesophagealReflux=Yes\n",
       ":   0.156084656084656BMI=Underweight\n",
       ":   0.144620811287478Smoking=Yes\n",
       ":   0.143298059964727Education=Higher\n",
       ":   0.0939153439153439Diagnosis=Yes\n",
       ":   0\n",
       "\n"
      ],
      "text/plain": [
       "              Diagnosis=No                 Smoking=No \n",
       "                1.00000000                 0.85670194 \n",
       " GastroesophagealReflux=No              PetAllergy=No \n",
       "                0.84391534                 0.83289242 \n",
       "                 Eczema=No                HayFever=No \n",
       "                0.80731922                 0.74470899 \n",
       "    FamilyHistoryAsthma=No      NighttimeSymptoms=Yes \n",
       "                0.69885362                 0.60493827 \n",
       "     HistoryOfAllergies=No        ExerciseInduced=Yes \n",
       "                0.60052910                 0.59876543 \n",
       "              Wheezing=Yes         ChestTightness=Yes \n",
       "                0.59303351                 0.50793651 \n",
       "                 Gender=No               Coughing=Yes \n",
       "                0.50705467                 0.50617284 \n",
       "     ShortnessOfBreath=Yes       ShortnessOfBreath=No \n",
       "                0.50220459                 0.49779541 \n",
       "               Coughing=No                 Gender=Yes \n",
       "                0.49382716                 0.49294533 \n",
       "         SleepQuality=High          ChestTightness=No \n",
       "                0.49294533                 0.49206349 \n",
       "      LungFunctionFVC=High        PollenExposure=High \n",
       "                0.44664903                 0.41181658 \n",
       "               Wheezing=No    PhysicalActivity=Active \n",
       "                0.40696649                 0.40652557 \n",
       "    PollutionExposure=High         ExerciseInduced=No \n",
       "                0.40652557                 0.40123457 \n",
       "    HistoryOfAllergies=Yes          DustExposure=High \n",
       "                0.39947090                 0.39638448 \n",
       "      NighttimeSymptoms=No                  BMI=Obese \n",
       "                0.39506173                 0.39462081 \n",
       "     Education=High School      LungFunctionFEV1=High \n",
       "                0.38888889                 0.35537919 \n",
       "       SleepQuality=Medium    LungFunctionFEV1=Normal \n",
       "                0.34391534                 0.33818342 \n",
       "       LungFunctionFVC=Low                 Age=Senior \n",
       "                0.33377425                 0.32936508 \n",
       "          Age_Group=Senior       Education=Bachelor's \n",
       "                0.32936508                 0.31746032 \n",
       "     DustExposure=Moderate       LungFunctionFEV1=Low \n",
       "                0.30908289                 0.30643739 \n",
       "     PollutionExposure=Low    PollenExposure=Moderate \n",
       "                0.30379189                 0.30114638 \n",
       "   FamilyHistoryAsthma=Yes  PhysicalActivity=Moderate \n",
       "                0.30114638                 0.30026455 \n",
       "          DietQuality=Poor        DietQuality=Average \n",
       "                0.29761905                 0.29497354 \n",
       "          DustExposure=Low PhysicalActivity=Sedentary \n",
       "                0.29453263                 0.29320988 \n",
       "PollutionExposure=Moderate         PollenExposure=Low \n",
       "                0.28968254                 0.28703704 \n",
       "                BMI=Normal            Age=Middle-Aged \n",
       "                0.26234568                 0.25925926 \n",
       "     Age_Group=Middle-Aged               HayFever=Yes \n",
       "                0.25925926                 0.25529101 \n",
       "           Age=Young Adult      Age_Group=Young Adult \n",
       "                0.23985891                 0.23985891 \n",
       "    LungFunctionFVC=Normal      DietQuality=Excellent \n",
       "                0.21957672                 0.20502646 \n",
       "          DietQuality=Good             Education=None \n",
       "                0.20238095                 0.19973545 \n",
       "            BMI=Overweight                 Eczema=Yes \n",
       "                0.19841270                 0.19268078 \n",
       "                 Age=Child            Age_Group=Child \n",
       "                0.17151675                 0.17151675 \n",
       "            PetAllergy=Yes           SleepQuality=Low \n",
       "                0.16710758                 0.16313933 \n",
       "GastroesophagealReflux=Yes            BMI=Underweight \n",
       "                0.15608466                 0.14462081 \n",
       "               Smoking=Yes           Education=Higher \n",
       "                0.14329806                 0.09391534 \n",
       "             Diagnosis=Yes \n",
       "                0.00000000 "
      ]
     },
     "metadata": {},
     "output_type": "display_data"
    }
   ],
   "source": [
    "sort(itemFrequency(asthma_no, type=\"relative\"), decreasing = TRUE)"
   ]
  },
  {
   "cell_type": "code",
   "execution_count": 54,
   "id": "2694863c-844d-420c-aa60-2ead22f0fb32",
   "metadata": {},
   "outputs": [],
   "source": [
    "# Asthmatic patients"
   ]
  },
  {
   "cell_type": "code",
   "execution_count": 55,
   "id": "07a68af5-94e4-45ad-927f-5cd7ec932edb",
   "metadata": {},
   "outputs": [],
   "source": [
    "asthma_yes <- subset(astma_trans, items %in% \"Diagnosis=Yes\")"
   ]
  },
  {
   "cell_type": "code",
   "execution_count": 56,
   "id": "cac10458-62b6-431a-a365-47f075ca9622",
   "metadata": {
    "scrolled": true
   },
   "outputs": [
    {
     "name": "stdout",
     "output_type": "stream",
     "text": [
      "    items                         transactionID\n",
      "[1] {Age=Young Adult,                          \n",
      "     Gender=Yes,                               \n",
      "     BMI=Underweight,                          \n",
      "     Smoking=No,                               \n",
      "     PhysicalActivity=Active,                  \n",
      "     DietQuality=Poor,                         \n",
      "     SleepQuality=Medium,                      \n",
      "     PollutionExposure=Low,                    \n",
      "     PollenExposure=High,                      \n",
      "     DustExposure=Low,                         \n",
      "     PetAllergy=Yes,                           \n",
      "     FamilyHistoryAsthma=No,                   \n",
      "     HistoryOfAllergies=Yes,                   \n",
      "     Eczema=Yes,                               \n",
      "     HayFever=No,                              \n",
      "     GastroesophagealReflux=No,                \n",
      "     LungFunctionFEV1=Low,                     \n",
      "     LungFunctionFVC=Low,                      \n",
      "     Wheezing=No,                              \n",
      "     ShortnessOfBreath=No,                     \n",
      "     ChestTightness=Yes,                       \n",
      "     Coughing=No,                              \n",
      "     NighttimeSymptoms=Yes,                    \n",
      "     ExerciseInduced=Yes,                      \n",
      "     Diagnosis=Yes,                            \n",
      "     Age_Group=Young Adult,                    \n",
      "     Education=None}                       2153\n",
      "[2] {Age=Middle-Aged,                          \n",
      "     Gender=Yes,                               \n",
      "     BMI=Normal,                               \n",
      "     Smoking=No,                               \n",
      "     PhysicalActivity=Moderate,                \n",
      "     DietQuality=Poor,                         \n",
      "     SleepQuality=Low,                         \n",
      "     PollutionExposure=High,                   \n",
      "     PollenExposure=High,                      \n",
      "     DustExposure=High,                        \n",
      "     PetAllergy=No,                            \n",
      "     FamilyHistoryAsthma=Yes,                  \n",
      "     HistoryOfAllergies=Yes,                   \n",
      "     Eczema=No,                                \n",
      "     HayFever=No,                              \n",
      "     GastroesophagealReflux=No,                \n",
      "     LungFunctionFEV1=Low,                     \n",
      "     LungFunctionFVC=Normal,                   \n",
      "     Wheezing=Yes,                             \n",
      "     ShortnessOfBreath=Yes,                    \n",
      "     ChestTightness=Yes,                       \n",
      "     Coughing=No,                              \n",
      "     NighttimeSymptoms=Yes,                    \n",
      "     ExerciseInduced=Yes,                      \n",
      "     Diagnosis=Yes,                            \n",
      "     Age_Group=Middle-Aged,                    \n",
      "     Education=None}                       2154\n",
      "[3] {Age=Senior,                               \n",
      "     Gender=Yes,                               \n",
      "     BMI=Underweight,                          \n",
      "     Smoking=No,                               \n",
      "     PhysicalActivity=Moderate,                \n",
      "     DietQuality=Average,                      \n",
      "     SleepQuality=High,                        \n",
      "     PollutionExposure=Moderate,               \n",
      "     PollenExposure=Low,                       \n",
      "     DustExposure=Moderate,                    \n",
      "     PetAllergy=No,                            \n",
      "     FamilyHistoryAsthma=No,                   \n",
      "     HistoryOfAllergies=No,                    \n",
      "     Eczema=No,                                \n",
      "     HayFever=Yes,                             \n",
      "     GastroesophagealReflux=Yes,               \n",
      "     LungFunctionFEV1=Normal,                  \n",
      "     LungFunctionFVC=Low,                      \n",
      "     Wheezing=No,                              \n",
      "     ShortnessOfBreath=Yes,                    \n",
      "     ChestTightness=Yes,                       \n",
      "     Coughing=No,                              \n",
      "     NighttimeSymptoms=Yes,                    \n",
      "     ExerciseInduced=No,                       \n",
      "     Diagnosis=Yes,                            \n",
      "     Age_Group=Senior,                         \n",
      "     Education=Bachelor's}                 2155\n",
      "[4] {Age=Middle-Aged,                          \n",
      "     Gender=Yes,                               \n",
      "     BMI=Underweight,                          \n",
      "     Smoking=No,                               \n",
      "     PhysicalActivity=Active,                  \n",
      "     DietQuality=Excellent,                    \n",
      "     SleepQuality=Medium,                      \n",
      "     PollutionExposure=High,                   \n",
      "     PollenExposure=Moderate,                  \n",
      "     DustExposure=Moderate,                    \n",
      "     PetAllergy=No,                            \n",
      "     FamilyHistoryAsthma=Yes,                  \n",
      "     HistoryOfAllergies=No,                    \n",
      "     Eczema=No,                                \n",
      "     HayFever=No,                              \n",
      "     GastroesophagealReflux=No,                \n",
      "     LungFunctionFEV1=Normal,                  \n",
      "     LungFunctionFVC=High,                     \n",
      "     Wheezing=Yes,                             \n",
      "     ShortnessOfBreath=Yes,                    \n",
      "     ChestTightness=No,                        \n",
      "     Coughing=No,                              \n",
      "     NighttimeSymptoms=No,                     \n",
      "     ExerciseInduced=Yes,                      \n",
      "     Diagnosis=Yes,                            \n",
      "     Age_Group=Middle-Aged,                    \n",
      "     Education=None}                       2161\n",
      "[5] {Age=Senior,                               \n",
      "     Gender=Yes,                               \n",
      "     BMI=Obese,                                \n",
      "     Smoking=No,                               \n",
      "     PhysicalActivity=Sedentary,               \n",
      "     DietQuality=Excellent,                    \n",
      "     SleepQuality=Low,                         \n",
      "     PollutionExposure=Moderate,               \n",
      "     PollenExposure=High,                      \n",
      "     DustExposure=Moderate,                    \n",
      "     PetAllergy=No,                            \n",
      "     FamilyHistoryAsthma=Yes,                  \n",
      "     HistoryOfAllergies=No,                    \n",
      "     Eczema=No,                                \n",
      "     HayFever=No,                              \n",
      "     GastroesophagealReflux=Yes,               \n",
      "     LungFunctionFEV1=High,                    \n",
      "     LungFunctionFVC=Low,                      \n",
      "     Wheezing=Yes,                             \n",
      "     ShortnessOfBreath=Yes,                    \n",
      "     ChestTightness=Yes,                       \n",
      "     Coughing=Yes,                             \n",
      "     NighttimeSymptoms=No,                     \n",
      "     ExerciseInduced=No,                       \n",
      "     Diagnosis=Yes,                            \n",
      "     Age_Group=Senior,                         \n",
      "     Education=Bachelor's}                 2162\n"
     ]
    }
   ],
   "source": [
    "inspect(asthma_yes[1:5])"
   ]
  },
  {
   "cell_type": "code",
   "execution_count": 57,
   "id": "f42164c0-1a53-4b90-8757-ee18186c9fd1",
   "metadata": {},
   "outputs": [
    {
     "data": {
      "text/html": [
       "<style>\n",
       ".dl-inline {width: auto; margin:0; padding: 0}\n",
       ".dl-inline>dt, .dl-inline>dd {float: none; width: auto; display: inline-block}\n",
       ".dl-inline>dt::after {content: \":\\0020\"; padding-right: .5ex}\n",
       ".dl-inline>dt:not(:first-of-type) {padding-left: .5ex}\n",
       "</style><dl class=dl-inline><dt>Diagnosis=Yes</dt><dd>1</dd><dt>Smoking=No</dt><dd>0.887096774193548</dd><dt>PetAllergy=No</dt><dd>0.854838709677419</dd><dt>Eczema=No</dt><dd>0.82258064516129</dd><dt>GastroesophagealReflux=No</dt><dd>0.806451612903226</dd><dt>HayFever=No</dt><dd>0.782258064516129</dd><dt>ExerciseInduced=Yes</dt><dd>0.717741935483871</dd><dt>FamilyHistoryAsthma=No</dt><dd>0.701612903225806</dd><dt>Wheezing=Yes</dt><dd>0.653225806451613</dd><dt>HistoryOfAllergies=No</dt><dd>0.604838709677419</dd><dt>ChestTightness=No</dt><dd>0.580645161290323</dd><dt>NighttimeSymptoms=Yes</dt><dd>0.556451612903226</dd><dt>SleepQuality=High</dt><dd>0.548387096774194</dd><dt>Coughing=No</dt><dd>0.548387096774194</dd><dt>ShortnessOfBreath=No</dt><dd>0.532258064516129</dd><dt>Gender=No</dt><dd>0.5</dd><dt>Gender=Yes</dt><dd>0.5</dd><dt>ShortnessOfBreath=Yes</dt><dd>0.467741935483871</dd><dt>LungFunctionFVC=High</dt><dd>0.451612903225806</dd><dt>Coughing=Yes</dt><dd>0.451612903225806</dd><dt>NighttimeSymptoms=No</dt><dd>0.443548387096774</dd><dt>PollutionExposure=High</dt><dd>0.435483870967742</dd><dt>PollenExposure=High</dt><dd>0.435483870967742</dd><dt>ChestTightness=Yes</dt><dd>0.419354838709677</dd><dt>Education=High School</dt><dd>0.411290322580645</dd><dt>PhysicalActivity=Active</dt><dd>0.395161290322581</dd><dt>HistoryOfAllergies=Yes</dt><dd>0.395161290322581</dd><dt>LungFunctionFEV1=Normal</dt><dd>0.395161290322581</dd><dt>PhysicalActivity=Moderate</dt><dd>0.370967741935484</dd><dt>BMI=Obese</dt><dd>0.362903225806452</dd><dt>PollutionExposure=Low</dt><dd>0.354838709677419</dd><dt>DustExposure=High</dt><dd>0.354838709677419</dd><dt>LungFunctionFEV1=High</dt><dd>0.354838709677419</dd><dt>DustExposure=Low</dt><dd>0.346774193548387</dd><dt>Wheezing=No</dt><dd>0.346774193548387</dd><dt>Age=Senior</dt><dd>0.330645161290323</dd><dt>SleepQuality=Medium</dt><dd>0.330645161290323</dd><dt>Age_Group=Senior</dt><dd>0.330645161290323</dd><dt>DietQuality=Poor</dt><dd>0.32258064516129</dd><dt>PollenExposure=Low</dt><dd>0.306451612903226</dd><dt>DustExposure=Moderate</dt><dd>0.298387096774194</dd><dt>FamilyHistoryAsthma=Yes</dt><dd>0.298387096774194</dd><dt>BMI=Normal</dt><dd>0.290322580645161</dd><dt>DietQuality=Average</dt><dd>0.282258064516129</dd><dt>ExerciseInduced=No</dt><dd>0.282258064516129</dd><dt>LungFunctionFVC=Low</dt><dd>0.274193548387097</dd><dt>LungFunctionFVC=Normal</dt><dd>0.274193548387097</dd><dt>PollenExposure=Moderate</dt><dd>0.258064516129032</dd><dt>LungFunctionFEV1=Low</dt><dd>0.25</dd><dt>Age=Young Adult</dt><dd>0.233870967741935</dd><dt>Age=Middle-Aged</dt><dd>0.233870967741935</dd><dt>PhysicalActivity=Sedentary</dt><dd>0.233870967741935</dd><dt>Age_Group=Young Adult</dt><dd>0.233870967741935</dd><dt>Age_Group=Middle-Aged</dt><dd>0.233870967741935</dd><dt>Education=Bachelor's</dt><dd>0.233870967741935</dd><dt>BMI=Overweight</dt><dd>0.217741935483871</dd><dt>HayFever=Yes</dt><dd>0.217741935483871</dd><dt>DietQuality=Excellent</dt><dd>0.209677419354839</dd><dt>PollutionExposure=Moderate</dt><dd>0.209677419354839</dd><dt>Age=Child</dt><dd>0.201612903225806</dd><dt>Age_Group=Child</dt><dd>0.201612903225806</dd><dt>Education=None</dt><dd>0.201612903225806</dd><dt>GastroesophagealReflux=Yes</dt><dd>0.193548387096774</dd><dt>DietQuality=Good</dt><dd>0.185483870967742</dd><dt>Eczema=Yes</dt><dd>0.17741935483871</dd><dt>Education=Higher</dt><dd>0.153225806451613</dd><dt>PetAllergy=Yes</dt><dd>0.145161290322581</dd><dt>BMI=Underweight</dt><dd>0.129032258064516</dd><dt>SleepQuality=Low</dt><dd>0.120967741935484</dd><dt>Smoking=Yes</dt><dd>0.112903225806452</dd><dt>Diagnosis=No</dt><dd>0</dd></dl>\n"
      ],
      "text/latex": [
       "\\begin{description*}\n",
       "\\item[Diagnosis=Yes] 1\n",
       "\\item[Smoking=No] 0.887096774193548\n",
       "\\item[PetAllergy=No] 0.854838709677419\n",
       "\\item[Eczema=No] 0.82258064516129\n",
       "\\item[GastroesophagealReflux=No] 0.806451612903226\n",
       "\\item[HayFever=No] 0.782258064516129\n",
       "\\item[ExerciseInduced=Yes] 0.717741935483871\n",
       "\\item[FamilyHistoryAsthma=No] 0.701612903225806\n",
       "\\item[Wheezing=Yes] 0.653225806451613\n",
       "\\item[HistoryOfAllergies=No] 0.604838709677419\n",
       "\\item[ChestTightness=No] 0.580645161290323\n",
       "\\item[NighttimeSymptoms=Yes] 0.556451612903226\n",
       "\\item[SleepQuality=High] 0.548387096774194\n",
       "\\item[Coughing=No] 0.548387096774194\n",
       "\\item[ShortnessOfBreath=No] 0.532258064516129\n",
       "\\item[Gender=No] 0.5\n",
       "\\item[Gender=Yes] 0.5\n",
       "\\item[ShortnessOfBreath=Yes] 0.467741935483871\n",
       "\\item[LungFunctionFVC=High] 0.451612903225806\n",
       "\\item[Coughing=Yes] 0.451612903225806\n",
       "\\item[NighttimeSymptoms=No] 0.443548387096774\n",
       "\\item[PollutionExposure=High] 0.435483870967742\n",
       "\\item[PollenExposure=High] 0.435483870967742\n",
       "\\item[ChestTightness=Yes] 0.419354838709677\n",
       "\\item[Education=High School] 0.411290322580645\n",
       "\\item[PhysicalActivity=Active] 0.395161290322581\n",
       "\\item[HistoryOfAllergies=Yes] 0.395161290322581\n",
       "\\item[LungFunctionFEV1=Normal] 0.395161290322581\n",
       "\\item[PhysicalActivity=Moderate] 0.370967741935484\n",
       "\\item[BMI=Obese] 0.362903225806452\n",
       "\\item[PollutionExposure=Low] 0.354838709677419\n",
       "\\item[DustExposure=High] 0.354838709677419\n",
       "\\item[LungFunctionFEV1=High] 0.354838709677419\n",
       "\\item[DustExposure=Low] 0.346774193548387\n",
       "\\item[Wheezing=No] 0.346774193548387\n",
       "\\item[Age=Senior] 0.330645161290323\n",
       "\\item[SleepQuality=Medium] 0.330645161290323\n",
       "\\item[Age\\textbackslash{}\\_Group=Senior] 0.330645161290323\n",
       "\\item[DietQuality=Poor] 0.32258064516129\n",
       "\\item[PollenExposure=Low] 0.306451612903226\n",
       "\\item[DustExposure=Moderate] 0.298387096774194\n",
       "\\item[FamilyHistoryAsthma=Yes] 0.298387096774194\n",
       "\\item[BMI=Normal] 0.290322580645161\n",
       "\\item[DietQuality=Average] 0.282258064516129\n",
       "\\item[ExerciseInduced=No] 0.282258064516129\n",
       "\\item[LungFunctionFVC=Low] 0.274193548387097\n",
       "\\item[LungFunctionFVC=Normal] 0.274193548387097\n",
       "\\item[PollenExposure=Moderate] 0.258064516129032\n",
       "\\item[LungFunctionFEV1=Low] 0.25\n",
       "\\item[Age=Young Adult] 0.233870967741935\n",
       "\\item[Age=Middle-Aged] 0.233870967741935\n",
       "\\item[PhysicalActivity=Sedentary] 0.233870967741935\n",
       "\\item[Age\\textbackslash{}\\_Group=Young Adult] 0.233870967741935\n",
       "\\item[Age\\textbackslash{}\\_Group=Middle-Aged] 0.233870967741935\n",
       "\\item[Education=Bachelor's] 0.233870967741935\n",
       "\\item[BMI=Overweight] 0.217741935483871\n",
       "\\item[HayFever=Yes] 0.217741935483871\n",
       "\\item[DietQuality=Excellent] 0.209677419354839\n",
       "\\item[PollutionExposure=Moderate] 0.209677419354839\n",
       "\\item[Age=Child] 0.201612903225806\n",
       "\\item[Age\\textbackslash{}\\_Group=Child] 0.201612903225806\n",
       "\\item[Education=None] 0.201612903225806\n",
       "\\item[GastroesophagealReflux=Yes] 0.193548387096774\n",
       "\\item[DietQuality=Good] 0.185483870967742\n",
       "\\item[Eczema=Yes] 0.17741935483871\n",
       "\\item[Education=Higher] 0.153225806451613\n",
       "\\item[PetAllergy=Yes] 0.145161290322581\n",
       "\\item[BMI=Underweight] 0.129032258064516\n",
       "\\item[SleepQuality=Low] 0.120967741935484\n",
       "\\item[Smoking=Yes] 0.112903225806452\n",
       "\\item[Diagnosis=No] 0\n",
       "\\end{description*}\n"
      ],
      "text/markdown": [
       "Diagnosis=Yes\n",
       ":   1Smoking=No\n",
       ":   0.887096774193548PetAllergy=No\n",
       ":   0.854838709677419Eczema=No\n",
       ":   0.82258064516129GastroesophagealReflux=No\n",
       ":   0.806451612903226HayFever=No\n",
       ":   0.782258064516129ExerciseInduced=Yes\n",
       ":   0.717741935483871FamilyHistoryAsthma=No\n",
       ":   0.701612903225806Wheezing=Yes\n",
       ":   0.653225806451613HistoryOfAllergies=No\n",
       ":   0.604838709677419ChestTightness=No\n",
       ":   0.580645161290323NighttimeSymptoms=Yes\n",
       ":   0.556451612903226SleepQuality=High\n",
       ":   0.548387096774194Coughing=No\n",
       ":   0.548387096774194ShortnessOfBreath=No\n",
       ":   0.532258064516129Gender=No\n",
       ":   0.5Gender=Yes\n",
       ":   0.5ShortnessOfBreath=Yes\n",
       ":   0.467741935483871LungFunctionFVC=High\n",
       ":   0.451612903225806Coughing=Yes\n",
       ":   0.451612903225806NighttimeSymptoms=No\n",
       ":   0.443548387096774PollutionExposure=High\n",
       ":   0.435483870967742PollenExposure=High\n",
       ":   0.435483870967742ChestTightness=Yes\n",
       ":   0.419354838709677Education=High School\n",
       ":   0.411290322580645PhysicalActivity=Active\n",
       ":   0.395161290322581HistoryOfAllergies=Yes\n",
       ":   0.395161290322581LungFunctionFEV1=Normal\n",
       ":   0.395161290322581PhysicalActivity=Moderate\n",
       ":   0.370967741935484BMI=Obese\n",
       ":   0.362903225806452PollutionExposure=Low\n",
       ":   0.354838709677419DustExposure=High\n",
       ":   0.354838709677419LungFunctionFEV1=High\n",
       ":   0.354838709677419DustExposure=Low\n",
       ":   0.346774193548387Wheezing=No\n",
       ":   0.346774193548387Age=Senior\n",
       ":   0.330645161290323SleepQuality=Medium\n",
       ":   0.330645161290323Age_Group=Senior\n",
       ":   0.330645161290323DietQuality=Poor\n",
       ":   0.32258064516129PollenExposure=Low\n",
       ":   0.306451612903226DustExposure=Moderate\n",
       ":   0.298387096774194FamilyHistoryAsthma=Yes\n",
       ":   0.298387096774194BMI=Normal\n",
       ":   0.290322580645161DietQuality=Average\n",
       ":   0.282258064516129ExerciseInduced=No\n",
       ":   0.282258064516129LungFunctionFVC=Low\n",
       ":   0.274193548387097LungFunctionFVC=Normal\n",
       ":   0.274193548387097PollenExposure=Moderate\n",
       ":   0.258064516129032LungFunctionFEV1=Low\n",
       ":   0.25Age=Young Adult\n",
       ":   0.233870967741935Age=Middle-Aged\n",
       ":   0.233870967741935PhysicalActivity=Sedentary\n",
       ":   0.233870967741935Age_Group=Young Adult\n",
       ":   0.233870967741935Age_Group=Middle-Aged\n",
       ":   0.233870967741935Education=Bachelor's\n",
       ":   0.233870967741935BMI=Overweight\n",
       ":   0.217741935483871HayFever=Yes\n",
       ":   0.217741935483871DietQuality=Excellent\n",
       ":   0.209677419354839PollutionExposure=Moderate\n",
       ":   0.209677419354839Age=Child\n",
       ":   0.201612903225806Age_Group=Child\n",
       ":   0.201612903225806Education=None\n",
       ":   0.201612903225806GastroesophagealReflux=Yes\n",
       ":   0.193548387096774DietQuality=Good\n",
       ":   0.185483870967742Eczema=Yes\n",
       ":   0.17741935483871Education=Higher\n",
       ":   0.153225806451613PetAllergy=Yes\n",
       ":   0.145161290322581BMI=Underweight\n",
       ":   0.129032258064516SleepQuality=Low\n",
       ":   0.120967741935484Smoking=Yes\n",
       ":   0.112903225806452Diagnosis=No\n",
       ":   0\n",
       "\n"
      ],
      "text/plain": [
       "             Diagnosis=Yes                 Smoking=No \n",
       "                 1.0000000                  0.8870968 \n",
       "             PetAllergy=No                  Eczema=No \n",
       "                 0.8548387                  0.8225806 \n",
       " GastroesophagealReflux=No                HayFever=No \n",
       "                 0.8064516                  0.7822581 \n",
       "       ExerciseInduced=Yes     FamilyHistoryAsthma=No \n",
       "                 0.7177419                  0.7016129 \n",
       "              Wheezing=Yes      HistoryOfAllergies=No \n",
       "                 0.6532258                  0.6048387 \n",
       "         ChestTightness=No      NighttimeSymptoms=Yes \n",
       "                 0.5806452                  0.5564516 \n",
       "         SleepQuality=High                Coughing=No \n",
       "                 0.5483871                  0.5483871 \n",
       "      ShortnessOfBreath=No                  Gender=No \n",
       "                 0.5322581                  0.5000000 \n",
       "                Gender=Yes      ShortnessOfBreath=Yes \n",
       "                 0.5000000                  0.4677419 \n",
       "      LungFunctionFVC=High               Coughing=Yes \n",
       "                 0.4516129                  0.4516129 \n",
       "      NighttimeSymptoms=No     PollutionExposure=High \n",
       "                 0.4435484                  0.4354839 \n",
       "       PollenExposure=High         ChestTightness=Yes \n",
       "                 0.4354839                  0.4193548 \n",
       "     Education=High School    PhysicalActivity=Active \n",
       "                 0.4112903                  0.3951613 \n",
       "    HistoryOfAllergies=Yes    LungFunctionFEV1=Normal \n",
       "                 0.3951613                  0.3951613 \n",
       " PhysicalActivity=Moderate                  BMI=Obese \n",
       "                 0.3709677                  0.3629032 \n",
       "     PollutionExposure=Low          DustExposure=High \n",
       "                 0.3548387                  0.3548387 \n",
       "     LungFunctionFEV1=High           DustExposure=Low \n",
       "                 0.3548387                  0.3467742 \n",
       "               Wheezing=No                 Age=Senior \n",
       "                 0.3467742                  0.3306452 \n",
       "       SleepQuality=Medium           Age_Group=Senior \n",
       "                 0.3306452                  0.3306452 \n",
       "          DietQuality=Poor         PollenExposure=Low \n",
       "                 0.3225806                  0.3064516 \n",
       "     DustExposure=Moderate    FamilyHistoryAsthma=Yes \n",
       "                 0.2983871                  0.2983871 \n",
       "                BMI=Normal        DietQuality=Average \n",
       "                 0.2903226                  0.2822581 \n",
       "        ExerciseInduced=No        LungFunctionFVC=Low \n",
       "                 0.2822581                  0.2741935 \n",
       "    LungFunctionFVC=Normal    PollenExposure=Moderate \n",
       "                 0.2741935                  0.2580645 \n",
       "      LungFunctionFEV1=Low            Age=Young Adult \n",
       "                 0.2500000                  0.2338710 \n",
       "           Age=Middle-Aged PhysicalActivity=Sedentary \n",
       "                 0.2338710                  0.2338710 \n",
       "     Age_Group=Young Adult      Age_Group=Middle-Aged \n",
       "                 0.2338710                  0.2338710 \n",
       "      Education=Bachelor's             BMI=Overweight \n",
       "                 0.2338710                  0.2177419 \n",
       "              HayFever=Yes      DietQuality=Excellent \n",
       "                 0.2177419                  0.2096774 \n",
       "PollutionExposure=Moderate                  Age=Child \n",
       "                 0.2096774                  0.2016129 \n",
       "           Age_Group=Child             Education=None \n",
       "                 0.2016129                  0.2016129 \n",
       "GastroesophagealReflux=Yes           DietQuality=Good \n",
       "                 0.1935484                  0.1854839 \n",
       "                Eczema=Yes           Education=Higher \n",
       "                 0.1774194                  0.1532258 \n",
       "            PetAllergy=Yes            BMI=Underweight \n",
       "                 0.1451613                  0.1290323 \n",
       "          SleepQuality=Low                Smoking=Yes \n",
       "                 0.1209677                  0.1129032 \n",
       "              Diagnosis=No \n",
       "                 0.0000000 "
      ]
     },
     "metadata": {},
     "output_type": "display_data"
    }
   ],
   "source": [
    "sort(itemFrequency(asthma_yes, type=\"relative\"), decreasing = TRUE)"
   ]
  },
  {
   "cell_type": "code",
   "execution_count": 58,
   "id": "f2e1bcdb-367e-4bb1-ba41-f8eb690e87cf",
   "metadata": {},
   "outputs": [],
   "source": [
    "# Asthmatic individuals differ most notably from non-asthmatics in respiratory symptoms. Wheezing is reported by 65.3% of asthmatics compared to 59.3% of non-asthmatics, while nighttime symptoms are significantly higher in asthmatics (55.6% vs. 39.5%). \n",
    "# Chest tightness and shortness of breath show smaller differences between groups.\n",
    "\n",
    "# Lung function measures also set asthmatics apart. While 45.2% have high FVC, 27.4% have low FVC, compared to 44.7% and 33% in non-asthmatics, suggesting more variability in lung function among asthmatics.\n",
    "\n",
    "# Environmental factors such as pollution and pollen exposure are similar between groups, with only slight differences in high exposure levels (43.5% vs. ~41%). Asthmatics also remain just as physically active as non-asthmatics, though they report slightly better sleep quality.\n",
    "\n",
    "# Notably, asthmatics are less likely to smoke (11.3% vs. 14.3%) and have slightly lower rates of pet allergies, eczema, and hay fever, contradicting common assumptions. A family history of asthma appears equally in both groups (30%), reinforcing its genetic influence.\n",
    "\n",
    "# Overall, asthma is best distinguished by respiratory symptoms and lung function, while lifestyle and environmental factors show only minor differences."
   ]
  },
  {
   "cell_type": "markdown",
   "id": "d45acd49-ea58-4171-92ac-ce56554dd71d",
   "metadata": {},
   "source": [
    "## Rules in the general population"
   ]
  },
  {
   "cell_type": "code",
   "execution_count": 59,
   "id": "04065d28-44cb-497c-a7cf-36e7fb2fd19a",
   "metadata": {},
   "outputs": [
    {
     "name": "stdout",
     "output_type": "stream",
     "text": [
      "Apriori\n",
      "\n",
      "Parameter specification:\n",
      " confidence minval smax arem  aval originalSupport maxtime support minlen\n",
      "       0.25    0.1    1 none FALSE            TRUE       5    0.05      2\n",
      " maxlen target  ext\n",
      "     10  rules TRUE\n",
      "\n",
      "Algorithmic control:\n",
      " filter tree heap memopt load sort verbose\n",
      "    0.1 TRUE TRUE  FALSE TRUE    2    TRUE\n",
      "\n",
      "Absolute minimum support count: 119 \n",
      "\n",
      "set item appearances ...[0 item(s)] done [0.00s].\n",
      "set transactions ...[71 item(s), 2392 transaction(s)] done [0.00s].\n",
      "sorting and recoding items ... [71 item(s)] done [0.00s].\n",
      "creating transaction tree ... done [0.00s].\n",
      "checking subsets of size 1 2 3 4 5 6 7 8 9 10"
     ]
    },
    {
     "name": "stderr",
     "output_type": "stream",
     "text": [
      "Warning message in apriori(astma_trans, parameter = list(supp = 0.05, conf = 0.25, :\n",
      "\"Mining stopped (maxlen reached). Only patterns up to a length of 10 returned!\"\n"
     ]
    },
    {
     "name": "stdout",
     "output_type": "stream",
     "text": [
      " done [2.01s].\n",
      "writing ... [2185809 rule(s)] done [0.38s].\n",
      "creating S4 object  ... done [1.11s].\n"
     ]
    }
   ],
   "source": [
    "frequent_general <- apriori(astma_trans, parameter = list(supp = 0.05, conf = 0.25, minlen = 2))"
   ]
  },
  {
   "cell_type": "code",
   "execution_count": 60,
   "id": "d4ceeacb-c136-42ef-b085-de97efad4a26",
   "metadata": {},
   "outputs": [
    {
     "name": "stdout",
     "output_type": "stream",
     "text": [
      "     lhs                   rhs                         support    confidence\n",
      "[1]  {Education=Higher} => {Coughing=No}               0.05476589 0.5646552 \n",
      "[2]  {Education=Higher} => {Gender=No}                 0.05392977 0.5560345 \n",
      "[3]  {Smoking=Yes}      => {PhysicalActivity=Active}   0.06061873 0.4277286 \n",
      "[4]  {Education=Higher} => {SleepQuality=High}         0.05058528 0.5215517 \n",
      "[5]  {Education=Higher} => {Eczema=No}                 0.08193980 0.8448276 \n",
      "[6]  {Education=Higher} => {ChestTightness=No}         0.05016722 0.5172414 \n",
      "[7]  {Smoking=Yes}      => {LungFunctionFEV1=Normal}   0.05016722 0.3539823 \n",
      "[8]  {Smoking=Yes}      => {BMI=Obese}                 0.05769231 0.4070796 \n",
      "[9]  {Smoking=Yes}      => {PollutionExposure=High}    0.05978261 0.4218289 \n",
      "[10] {Smoking=Yes}      => {Education=High School}     0.05643813 0.3982301 \n",
      "[11] {Education=Higher} => {ExerciseInduced=Yes}       0.05978261 0.6163793 \n",
      "[12] {Smoking=Yes}      => {Wheezing=No}               0.05811037 0.4100295 \n",
      "[13] {Smoking=Yes}      => {LungFunctionFEV1=High}     0.05100334 0.3598820 \n",
      "[14] {Education=Higher} => {Wheezing=Yes}              0.05852843 0.6034483 \n",
      "[15] {Education=Higher} => {HistoryOfAllergies=No}     0.05894649 0.6077586 \n",
      "[16] {Smoking=Yes}      => {DustExposure=High}         0.05643813 0.3982301 \n",
      "[17] {Smoking=Yes}      => {LungFunctionFVC=High}      0.06396321 0.4513274 \n",
      "[18] {Smoking=Yes}      => {ExerciseInduced=No}        0.05643813 0.3982301 \n",
      "[19] {Smoking=Yes}      => {HistoryOfAllergies=Yes}    0.05643813 0.3982301 \n",
      "[20] {Smoking=Yes}      => {SleepQuality=High}         0.06981605 0.4926254 \n",
      "[21] {Education=Higher} => {FamilyHistoryAsthma=No}    0.06688963 0.6896552 \n",
      "[22] {Education=Higher} => {NighttimeSymptoms=Yes}     0.05685619 0.5862069 \n",
      "[23] {Smoking=Yes}      => {Gender=Yes}                0.06772575 0.4778761 \n",
      "[24] {Education=Higher} => {Diagnosis=No}              0.08904682 0.9181034 \n",
      "[25] {Education=Higher} => {GastroesophagealReflux=No} 0.07901338 0.8146552 \n",
      "[26] {Education=Higher} => {Smoking=No}                0.08026756 0.8275862 \n",
      "[27] {Smoking=Yes}      => {NighttimeSymptoms=No}      0.05392977 0.3805310 \n",
      "[28] {Smoking=Yes}      => {PollenExposure=High}       0.05602007 0.3952802 \n",
      "[29] {Education=Higher} => {HayFever=No}               0.06897993 0.7112069 \n",
      "[30] {Education=Higher} => {PetAllergy=No}             0.07483278 0.7715517 \n",
      "     coverage   lift      count\n",
      "[1]  0.09698997 1.1369151 131  \n",
      "[2]  0.09698997 1.0973882 129  \n",
      "[3]  0.14172241 1.0536837 145  \n",
      "[4]  0.09698997 1.0518986 121  \n",
      "[5]  0.09698997 1.0454359 196  \n",
      "[6]  0.09698997 1.0414490 120  \n",
      "[7]  0.14172241 1.0376540 120  \n",
      "[8]  0.14172241 1.0358878 138  \n",
      "[9]  0.14172241 1.0338266 143  \n",
      "[10] 0.14172241 1.0209715 135  \n",
      "[11] 0.09698997 1.0189214 143  \n",
      "[12] 0.14172241 1.0153111 139  \n",
      "[13] 0.14172241 1.0127503 122  \n",
      "[14] 0.09698997 1.0122358 140  \n",
      "[15] 0.09698997 1.0116622 141  \n",
      "[16] 0.14172241 1.0101446 135  \n",
      "[17] 0.14172241 1.0098926 153  \n",
      "[18] 0.14172241 1.0080067 135  \n",
      "[19] 0.14172241 0.9974517 135  \n",
      "[20] 0.14172241 0.9935581 167  \n",
      "[21] 0.09698997 0.9866359 160  \n",
      "[22] 0.09698997 0.9730790 136  \n",
      "[23] 0.14172241 0.9687116 162  \n",
      "[24] 0.09698997 0.9682996 213  \n",
      "[25] 0.09698997 0.9675547 189  \n",
      "[26] 0.09698997 0.9642407 192  \n",
      "[27] 0.14172241 0.9571294 129  \n",
      "[28] 0.14172241 0.9569943 134  \n",
      "[29] 0.09698997 0.9525235 165  \n",
      "[30] 0.09698997 0.9250886 179  \n"
     ]
    }
   ],
   "source": [
    "inspect(sort(frequent_general[1:30], by = 'lift'))"
   ]
  },
  {
   "cell_type": "code",
   "execution_count": 61,
   "id": "57093abd-4c50-4c84-aabe-c8e6ea103974",
   "metadata": {},
   "outputs": [],
   "source": [
    "# These rules do not tell us that much about the relations within our database. Lift levels are close to 1 (independent items) and many rules do not have a meaning in terms of our analysis (ex. {Education=Higher} => {Coughing=No})"
   ]
  },
  {
   "cell_type": "code",
   "execution_count": 62,
   "id": "e6f1d389-b146-4f9a-a1d5-acee9dabb231",
   "metadata": {},
   "outputs": [
    {
     "name": "stdout",
     "output_type": "stream",
     "text": [
      "     lhs                   rhs                         support    confidence\n",
      "[1]  {Education=Higher} => {Diagnosis=No}              0.08904682 0.9181034 \n",
      "[2]  {Education=Higher} => {Eczema=No}                 0.08193980 0.8448276 \n",
      "[3]  {Education=Higher} => {Smoking=No}                0.08026756 0.8275862 \n",
      "[4]  {Education=Higher} => {GastroesophagealReflux=No} 0.07901338 0.8146552 \n",
      "[5]  {Education=Higher} => {PetAllergy=No}             0.07483278 0.7715517 \n",
      "[6]  {Smoking=Yes}      => {SleepQuality=High}         0.06981605 0.4926254 \n",
      "[7]  {Education=Higher} => {HayFever=No}               0.06897993 0.7112069 \n",
      "[8]  {Smoking=Yes}      => {Gender=Yes}                0.06772575 0.4778761 \n",
      "[9]  {Education=Higher} => {FamilyHistoryAsthma=No}    0.06688963 0.6896552 \n",
      "[10] {Smoking=Yes}      => {LungFunctionFVC=High}      0.06396321 0.4513274 \n",
      "[11] {Smoking=Yes}      => {PhysicalActivity=Active}   0.06061873 0.4277286 \n",
      "[12] {Education=Higher} => {ExerciseInduced=Yes}       0.05978261 0.6163793 \n",
      "[13] {Smoking=Yes}      => {PollutionExposure=High}    0.05978261 0.4218289 \n",
      "[14] {Education=Higher} => {HistoryOfAllergies=No}     0.05894649 0.6077586 \n",
      "[15] {Education=Higher} => {Wheezing=Yes}              0.05852843 0.6034483 \n",
      "[16] {Smoking=Yes}      => {Wheezing=No}               0.05811037 0.4100295 \n",
      "[17] {Smoking=Yes}      => {BMI=Obese}                 0.05769231 0.4070796 \n",
      "[18] {Education=Higher} => {NighttimeSymptoms=Yes}     0.05685619 0.5862069 \n",
      "[19] {Smoking=Yes}      => {Education=High School}     0.05643813 0.3982301 \n",
      "[20] {Smoking=Yes}      => {DustExposure=High}         0.05643813 0.3982301 \n",
      "[21] {Smoking=Yes}      => {ExerciseInduced=No}        0.05643813 0.3982301 \n",
      "[22] {Smoking=Yes}      => {HistoryOfAllergies=Yes}    0.05643813 0.3982301 \n",
      "[23] {Smoking=Yes}      => {PollenExposure=High}       0.05602007 0.3952802 \n",
      "[24] {Education=Higher} => {Coughing=No}               0.05476589 0.5646552 \n",
      "[25] {Education=Higher} => {Gender=No}                 0.05392977 0.5560345 \n",
      "[26] {Smoking=Yes}      => {NighttimeSymptoms=No}      0.05392977 0.3805310 \n",
      "[27] {Smoking=Yes}      => {LungFunctionFEV1=High}     0.05100334 0.3598820 \n",
      "[28] {Education=Higher} => {SleepQuality=High}         0.05058528 0.5215517 \n",
      "[29] {Education=Higher} => {ChestTightness=No}         0.05016722 0.5172414 \n",
      "[30] {Smoking=Yes}      => {LungFunctionFEV1=Normal}   0.05016722 0.3539823 \n",
      "     coverage   lift      count\n",
      "[1]  0.09698997 0.9682996 213  \n",
      "[2]  0.09698997 1.0454359 196  \n",
      "[3]  0.09698997 0.9642407 192  \n",
      "[4]  0.09698997 0.9675547 189  \n",
      "[5]  0.09698997 0.9250886 179  \n",
      "[6]  0.14172241 0.9935581 167  \n",
      "[7]  0.09698997 0.9525235 165  \n",
      "[8]  0.14172241 0.9687116 162  \n",
      "[9]  0.09698997 0.9866359 160  \n",
      "[10] 0.14172241 1.0098926 153  \n",
      "[11] 0.14172241 1.0536837 145  \n",
      "[12] 0.09698997 1.0189214 143  \n",
      "[13] 0.14172241 1.0338266 143  \n",
      "[14] 0.09698997 1.0116622 141  \n",
      "[15] 0.09698997 1.0122358 140  \n",
      "[16] 0.14172241 1.0153111 139  \n",
      "[17] 0.14172241 1.0358878 138  \n",
      "[18] 0.09698997 0.9730790 136  \n",
      "[19] 0.14172241 1.0209715 135  \n",
      "[20] 0.14172241 1.0101446 135  \n",
      "[21] 0.14172241 1.0080067 135  \n",
      "[22] 0.14172241 0.9974517 135  \n",
      "[23] 0.14172241 0.9569943 134  \n",
      "[24] 0.09698997 1.1369151 131  \n",
      "[25] 0.09698997 1.0973882 129  \n",
      "[26] 0.14172241 0.9571294 129  \n",
      "[27] 0.14172241 1.0127503 122  \n",
      "[28] 0.09698997 1.0518986 121  \n",
      "[29] 0.09698997 1.0414490 120  \n",
      "[30] 0.14172241 1.0376540 120  \n"
     ]
    }
   ],
   "source": [
    "inspect(sort(frequent_general[1:30], by = 'support'))"
   ]
  },
  {
   "cell_type": "code",
   "execution_count": 63,
   "id": "c511e9f8-8af9-4212-a1a7-e8e083048c1a",
   "metadata": {},
   "outputs": [],
   "source": [
    "# Let's do the same think, but with higer level of itemsets"
   ]
  },
  {
   "cell_type": "code",
   "execution_count": 64,
   "id": "ac59cc61-0f3a-4717-9c8b-83dfd8610acc",
   "metadata": {
    "scrolled": true
   },
   "outputs": [
    {
     "name": "stdout",
     "output_type": "stream",
     "text": [
      "Apriori\n",
      "\n",
      "Parameter specification:\n",
      " confidence minval smax arem  aval originalSupport maxtime support minlen\n",
      "       0.25    0.1    1 none FALSE            TRUE       5    0.07      3\n",
      " maxlen target  ext\n",
      "     10  rules TRUE\n",
      "\n",
      "Algorithmic control:\n",
      " filter tree heap memopt load sort verbose\n",
      "    0.1 TRUE TRUE  FALSE TRUE    2    TRUE\n",
      "\n",
      "Absolute minimum support count: 167 \n",
      "\n",
      "set item appearances ...[0 item(s)] done [0.00s].\n",
      "set transactions ...[71 item(s), 2392 transaction(s)] done [0.00s].\n",
      "sorting and recoding items ... [70 item(s)] done [0.00s].\n",
      "creating transaction tree ... done [0.00s].\n",
      "checking subsets of size 1 2 3 4 5 6 7 8 9 done [0.46s].\n",
      "writing ... [726936 rule(s)] done [0.09s].\n",
      "creating S4 object  ... done [0.19s].\n"
     ]
    }
   ],
   "source": [
    "frequent_general_3 <- apriori(astma_trans, parameter = list(supp = 0.07, conf = 0.25, minlen = 3))"
   ]
  },
  {
   "cell_type": "code",
   "execution_count": 65,
   "id": "84106665-3c60-4d5a-a86b-62cbf5652ec3",
   "metadata": {},
   "outputs": [
    {
     "name": "stdout",
     "output_type": "stream",
     "text": [
      "     lhs                             rhs                            support confidence   coverage      lift count\n",
      "[1]  {Smoking=Yes,                                                                                               \n",
      "      Diagnosis=No}               => {ShortnessOfBreath=No}      0.07775920  0.5723077 0.13586957 1.1455732   186\n",
      "[2]  {Smoking=Yes,                                                                                               \n",
      "      PetAllergy=No}              => {NighttimeSymptoms=Yes}     0.07483278  0.6462094 0.11580268 1.0726807   179\n",
      "[3]  {Smoking=Yes,                                                                                               \n",
      "      HayFever=No}                => {FamilyHistoryAsthma=No}    0.07817726  0.7362205 0.10618729 1.0532532   187\n",
      "[4]  {Smoking=Yes,                                                                                               \n",
      "      Eczema=No}                  => {Wheezing=Yes}              0.07107023  0.6273063 0.11329431 1.0522557   170\n",
      "[5]  {Smoking=Yes,                                                                                               \n",
      "      Wheezing=Yes}               => {Eczema=No}                 0.07107023  0.8500000 0.08361204 1.0518365   170\n",
      "[6]  {Smoking=Yes,                                                                                               \n",
      "      GastroesophagealReflux=No}  => {NighttimeSymptoms=Yes}     0.07274247  0.6327273 0.11496656 1.0503009   174\n",
      "[7]  {Smoking=Yes,                                                                                               \n",
      "      Eczema=No}                  => {NighttimeSymptoms=Yes}     0.07148829  0.6309963 0.11329431 1.0474276   171\n",
      "[8]  {Diagnosis=No,                                                                                              \n",
      "      Education=Higher}           => {Eczema=No}                 0.07525084  0.8450704 0.08904682 1.0457364   180\n",
      "[9]  {Smoking=Yes,                                                                                               \n",
      "      FamilyHistoryAsthma=No}     => {HayFever=No}               0.07817726  0.7791667 0.10033445 1.0435424   187\n",
      "[10] {Smoking=Yes,                                                                                               \n",
      "      Diagnosis=No}               => {Gender=No}                 0.07107023  0.5230769 0.13586957 1.0323432   170\n",
      "[11] {Smoking=Yes,                                                                                               \n",
      "      Eczema=No}                  => {HistoryOfAllergies=No}     0.07023411  0.6199262 0.11329431 1.0319161   168\n",
      "[12] {Smoking=Yes,                                                                                               \n",
      "      Diagnosis=No}               => {NighttimeSymptoms=Yes}     0.08403010  0.6184615 0.13586957 1.0266204   201\n",
      "[13] {Smoking=Yes,                                                                                               \n",
      "      NighttimeSymptoms=Yes}      => {PetAllergy=No}             0.07483278  0.8523810 0.08779264 1.0220026   179\n",
      "[14] {Smoking=Yes,                                                                                               \n",
      "      HistoryOfAllergies=No}      => {Eczema=No}                 0.07023411  0.8235294 0.08528428 1.0190804   168\n",
      "[15] {Smoking=Yes,                                                                                               \n",
      "      HistoryOfAllergies=No}      => {Diagnosis=No}              0.08193980  0.9607843 0.08528428 1.0133140   196\n",
      "[16] {Gender=No,                                                                                                 \n",
      "      Smoking=Yes}                => {Diagnosis=No}              0.07107023  0.9604520 0.07399666 1.0129635   170\n",
      "[17] {Smoking=Yes,                                                                                               \n",
      "      ShortnessOfBreath=No}       => {Diagnosis=No}              0.07775920  0.9587629 0.08110368 1.0111820   186\n",
      "[18] {Smoking=Yes,                                                                                               \n",
      "      NighttimeSymptoms=Yes}      => {Diagnosis=No}              0.08403010  0.9571429 0.08779264 1.0094734   201\n",
      "[19] {Smoking=Yes,                                                                                               \n",
      "      NighttimeSymptoms=Yes}      => {Eczema=No}                 0.07148829  0.8142857 0.08779264 1.0076417   171\n",
      "[20] {Smoking=Yes,                                                                                               \n",
      "      Wheezing=Yes}               => {Diagnosis=No}              0.07984950  0.9550000 0.08361204 1.0072134   191\n",
      "[21] {Smoking=Yes,                                                                                               \n",
      "      Diagnosis=No}               => {HistoryOfAllergies=No}     0.08193980  0.6030769 0.13586957 1.0038692   196\n",
      "[22] {Smoking=Yes,                                                                                               \n",
      "      ExerciseInduced=Yes}        => {Diagnosis=No}              0.08110368  0.9509804 0.08528428 1.0029740   194\n",
      "[23] {Smoking=Yes,                                                                                               \n",
      "      Diagnosis=No}               => {ExerciseInduced=Yes}       0.08110368  0.5969231 0.13586957 0.9867588   194\n",
      "[24] {Smoking=Yes,                                                                                               \n",
      "      Diagnosis=No}               => {Wheezing=Yes}              0.07984950  0.5876923 0.13586957 0.9858065   191\n",
      "[25] {Smoking=Yes,                                                                                               \n",
      "      NighttimeSymptoms=Yes}      => {GastroesophagealReflux=No} 0.07274247  0.8285714 0.08779264 0.9840828   174\n",
      "[26] {GastroesophagealReflux=No,                                                                                 \n",
      "      Education=Higher}           => {Diagnosis=No}              0.07274247  0.9206349 0.07901338 0.9709695   174\n",
      "[27] {Diagnosis=No,                                                                                              \n",
      "      Education=Higher}           => {GastroesophagealReflux=No} 0.07274247  0.8169014 0.08904682 0.9702225   174\n",
      "[28] {Eczema=No,                                                                                                 \n",
      "      Education=Higher}           => {Diagnosis=No}              0.07525084  0.9183673 0.08193980 0.9685779   180\n",
      "[29] {Smoking=No,                                                                                                \n",
      "      Education=Higher}           => {Diagnosis=No}              0.07357860  0.9166667 0.08026756 0.9667842   176\n",
      "[30] {Diagnosis=No,                                                                                              \n",
      "      Education=Higher}           => {Smoking=No}                0.07357860  0.8262911 0.08904682 0.9627317   176\n"
     ]
    }
   ],
   "source": [
    "inspect(sort(frequent_general_3[1:30], by = 'lift'))"
   ]
  },
  {
   "cell_type": "code",
   "execution_count": 73,
   "id": "8c85e705-aac9-4b8f-98ab-d04d47cc183c",
   "metadata": {},
   "outputs": [],
   "source": [
    "# The highest rule in terms of the lift shows negative diagnosis and shortness of breath in the case of the patients who are smokers. It prooves our observation from frequent items comparison we did above - people who are already asthmatic, will take care of their health and not smoke."
   ]
  },
  {
   "cell_type": "code",
   "execution_count": 67,
   "id": "0b4997f5-9fca-4d93-8fde-06eb2c7a63b4",
   "metadata": {},
   "outputs": [
    {
     "name": "stdout",
     "output_type": "stream",
     "text": [
      "     lhs                             rhs                            support confidence   coverage      lift count\n",
      "[1]  {Smoking=Yes,                                                                                               \n",
      "      NighttimeSymptoms=Yes}      => {Diagnosis=No}              0.08403010  0.9571429 0.08779264 1.0094734   201\n",
      "[2]  {Smoking=Yes,                                                                                               \n",
      "      Diagnosis=No}               => {NighttimeSymptoms=Yes}     0.08403010  0.6184615 0.13586957 1.0266204   201\n",
      "[3]  {Smoking=Yes,                                                                                               \n",
      "      HistoryOfAllergies=No}      => {Diagnosis=No}              0.08193980  0.9607843 0.08528428 1.0133140   196\n",
      "[4]  {Smoking=Yes,                                                                                               \n",
      "      Diagnosis=No}               => {HistoryOfAllergies=No}     0.08193980  0.6030769 0.13586957 1.0038692   196\n",
      "[5]  {Smoking=Yes,                                                                                               \n",
      "      ExerciseInduced=Yes}        => {Diagnosis=No}              0.08110368  0.9509804 0.08528428 1.0029740   194\n",
      "[6]  {Smoking=Yes,                                                                                               \n",
      "      Diagnosis=No}               => {ExerciseInduced=Yes}       0.08110368  0.5969231 0.13586957 0.9867588   194\n",
      "[7]  {Smoking=Yes,                                                                                               \n",
      "      Wheezing=Yes}               => {Diagnosis=No}              0.07984950  0.9550000 0.08361204 1.0072134   191\n",
      "[8]  {Smoking=Yes,                                                                                               \n",
      "      Diagnosis=No}               => {Wheezing=Yes}              0.07984950  0.5876923 0.13586957 0.9858065   191\n",
      "[9]  {Smoking=Yes,                                                                                               \n",
      "      FamilyHistoryAsthma=No}     => {HayFever=No}               0.07817726  0.7791667 0.10033445 1.0435424   187\n",
      "[10] {Smoking=Yes,                                                                                               \n",
      "      HayFever=No}                => {FamilyHistoryAsthma=No}    0.07817726  0.7362205 0.10618729 1.0532532   187\n",
      "[11] {Smoking=Yes,                                                                                               \n",
      "      ShortnessOfBreath=No}       => {Diagnosis=No}              0.07775920  0.9587629 0.08110368 1.0111820   186\n",
      "[12] {Smoking=Yes,                                                                                               \n",
      "      Diagnosis=No}               => {ShortnessOfBreath=No}      0.07775920  0.5723077 0.13586957 1.1455732   186\n",
      "[13] {Eczema=No,                                                                                                 \n",
      "      Education=Higher}           => {Diagnosis=No}              0.07525084  0.9183673 0.08193980 0.9685779   180\n",
      "[14] {Diagnosis=No,                                                                                              \n",
      "      Education=Higher}           => {Eczema=No}                 0.07525084  0.8450704 0.08904682 1.0457364   180\n",
      "[15] {Smoking=Yes,                                                                                               \n",
      "      NighttimeSymptoms=Yes}      => {PetAllergy=No}             0.07483278  0.8523810 0.08779264 1.0220026   179\n",
      "[16] {Smoking=Yes,                                                                                               \n",
      "      PetAllergy=No}              => {NighttimeSymptoms=Yes}     0.07483278  0.6462094 0.11580268 1.0726807   179\n",
      "[17] {Smoking=No,                                                                                                \n",
      "      Education=Higher}           => {Diagnosis=No}              0.07357860  0.9166667 0.08026756 0.9667842   176\n",
      "[18] {Diagnosis=No,                                                                                              \n",
      "      Education=Higher}           => {Smoking=No}                0.07357860  0.8262911 0.08904682 0.9627317   176\n",
      "[19] {GastroesophagealReflux=No,                                                                                 \n",
      "      Education=Higher}           => {Diagnosis=No}              0.07274247  0.9206349 0.07901338 0.9709695   174\n",
      "[20] {Diagnosis=No,                                                                                              \n",
      "      Education=Higher}           => {GastroesophagealReflux=No} 0.07274247  0.8169014 0.08904682 0.9702225   174\n",
      "[21] {Smoking=Yes,                                                                                               \n",
      "      NighttimeSymptoms=Yes}      => {GastroesophagealReflux=No} 0.07274247  0.8285714 0.08779264 0.9840828   174\n",
      "[22] {Smoking=Yes,                                                                                               \n",
      "      GastroesophagealReflux=No}  => {NighttimeSymptoms=Yes}     0.07274247  0.6327273 0.11496656 1.0503009   174\n",
      "[23] {Smoking=Yes,                                                                                               \n",
      "      NighttimeSymptoms=Yes}      => {Eczema=No}                 0.07148829  0.8142857 0.08779264 1.0076417   171\n",
      "[24] {Smoking=Yes,                                                                                               \n",
      "      Eczema=No}                  => {NighttimeSymptoms=Yes}     0.07148829  0.6309963 0.11329431 1.0474276   171\n",
      "[25] {Gender=No,                                                                                                 \n",
      "      Smoking=Yes}                => {Diagnosis=No}              0.07107023  0.9604520 0.07399666 1.0129635   170\n",
      "[26] {Smoking=Yes,                                                                                               \n",
      "      Diagnosis=No}               => {Gender=No}                 0.07107023  0.5230769 0.13586957 1.0323432   170\n",
      "[27] {Smoking=Yes,                                                                                               \n",
      "      Wheezing=Yes}               => {Eczema=No}                 0.07107023  0.8500000 0.08361204 1.0518365   170\n",
      "[28] {Smoking=Yes,                                                                                               \n",
      "      Eczema=No}                  => {Wheezing=Yes}              0.07107023  0.6273063 0.11329431 1.0522557   170\n",
      "[29] {Smoking=Yes,                                                                                               \n",
      "      HistoryOfAllergies=No}      => {Eczema=No}                 0.07023411  0.8235294 0.08528428 1.0190804   168\n",
      "[30] {Smoking=Yes,                                                                                               \n",
      "      Eczema=No}                  => {HistoryOfAllergies=No}     0.07023411  0.6199262 0.11329431 1.0319161   168\n"
     ]
    }
   ],
   "source": [
    "inspect(sort(frequent_general_3[1:30], by = 'support'))"
   ]
  },
  {
   "cell_type": "markdown",
   "id": "d4523250-22ae-40ba-a1c8-53f2bdd4b230",
   "metadata": {},
   "source": [
    "## Rules in the asthmatic subset of population"
   ]
  },
  {
   "cell_type": "code",
   "execution_count": 68,
   "id": "40692e2a-fced-4a2e-bac4-d83bf6fc74c9",
   "metadata": {},
   "outputs": [
    {
     "name": "stdout",
     "output_type": "stream",
     "text": [
      "Apriori\n",
      "\n",
      "Parameter specification:\n",
      " confidence minval smax arem  aval originalSupport maxtime support minlen\n",
      "       0.25    0.1    1 none FALSE            TRUE       5    0.05      2\n",
      " maxlen target  ext\n",
      "     10  rules TRUE\n",
      "\n",
      "Algorithmic control:\n",
      " filter tree heap memopt load sort verbose\n",
      "    0.1 TRUE TRUE  FALSE TRUE    2    TRUE\n",
      "\n",
      "Absolute minimum support count: 6 \n",
      "\n",
      "set item appearances ...[0 item(s)] done [0.00s].\n",
      "set transactions ...[70 item(s), 124 transaction(s)] done [0.00s].\n",
      "sorting and recoding items ... [70 item(s)] done [0.00s].\n",
      "creating transaction tree ... done [0.00s].\n",
      "checking subsets of size 1 2 3 4 5 6 7 8 9 10"
     ]
    },
    {
     "name": "stderr",
     "output_type": "stream",
     "text": [
      "Warning message in apriori(asthma_yes, parameter = list(supp = 0.05, conf = 0.25, :\n",
      "\"Mining stopped (maxlen reached). Only patterns up to a length of 10 returned!\"\n"
     ]
    },
    {
     "name": "stdout",
     "output_type": "stream",
     "text": [
      " done [0.53s].\n",
      "writing ... [5160179 rule(s)] done [1.04s].\n",
      "creating S4 object  ... done [1.94s].\n"
     ]
    }
   ],
   "source": [
    "asthma_rules <- apriori(asthma_yes, parameter = list(supp = 0.05, conf = 0.25, minlen = 2))"
   ]
  },
  {
   "cell_type": "code",
   "execution_count": 69,
   "id": "1ecf5ce8-b523-4d0d-a1c0-cb6b8519d009",
   "metadata": {},
   "outputs": [
    {
     "name": "stdout",
     "output_type": "stream",
     "text": [
      "     lhs                             rhs                          support   \n",
      "[1]  {Smoking=Yes}                => {GastroesophagealReflux=Yes} 0.07258065\n",
      "[2]  {GastroesophagealReflux=Yes} => {Smoking=Yes}                0.07258065\n",
      "[3]  {SleepQuality=Low}           => {Education=Bachelor's}       0.05645161\n",
      "[4]  {SleepQuality=Low}           => {ChestTightness=Yes}         0.07258065\n",
      "[5]  {Smoking=Yes}                => {DustExposure=High}          0.05645161\n",
      "[6]  {SleepQuality=Low}           => {HistoryOfAllergies=Yes}     0.06451613\n",
      "[7]  {SleepQuality=Low}           => {LungFunctionFEV1=High}      0.05645161\n",
      "[8]  {Smoking=Yes}                => {PollenExposure=High}        0.06451613\n",
      "[9]  {SleepQuality=Low}           => {ShortnessOfBreath=Yes}      0.07258065\n",
      "[10] {Smoking=Yes}                => {PhysicalActivity=Active}    0.05645161\n",
      "[11] {Smoking=Yes}                => {ChestTightness=No}          0.08064516\n",
      "[12] {SleepQuality=Low}           => {NighttimeSymptoms=No}       0.06451613\n",
      "[13] {SleepQuality=Low}           => {Gender=No}                  0.07258065\n",
      "[14] {Smoking=Yes}                => {SleepQuality=High}          0.07258065\n",
      "[15] {Smoking=Yes}                => {NighttimeSymptoms=Yes}      0.07258065\n",
      "[16] {Smoking=Yes}                => {Coughing=Yes}               0.05645161\n",
      "[17] {Smoking=Yes}                => {ShortnessOfBreath=No}       0.06451613\n",
      "[18] {SleepQuality=Low}           => {PollutionExposure=High}     0.05645161\n",
      "[19] {SleepQuality=Low}           => {PollenExposure=High}        0.05645161\n",
      "[20] {Smoking=Yes}                => {Gender=Yes}                 0.05645161\n",
      "[21] {Smoking=Yes}                => {Gender=No}                  0.05645161\n",
      "[22] {Smoking=Yes}                => {Diagnosis=Yes}              0.11290323\n",
      "[23] {Smoking=Yes}                => {ExerciseInduced=Yes}        0.08064516\n",
      "[24] {Smoking=Yes}                => {Wheezing=Yes}               0.07258065\n",
      "[25] {Smoking=Yes}                => {Eczema=No}                  0.08870968\n",
      "[26] {Smoking=Yes}                => {HistoryOfAllergies=No}      0.06451613\n",
      "[27] {Smoking=Yes}                => {PetAllergy=No}              0.08870968\n",
      "[28] {Smoking=Yes}                => {FamilyHistoryAsthma=No}     0.07258065\n",
      "[29] {Smoking=Yes}                => {Coughing=No}                0.05645161\n",
      "[30] {Smoking=Yes}                => {HayFever=No}                0.07258065\n",
      "     confidence coverage  lift      count\n",
      "[1]  0.6428571  0.1129032 3.3214286  9   \n",
      "[2]  0.3750000  0.1935484 3.3214286  9   \n",
      "[3]  0.4666667  0.1209677 1.9954023  7   \n",
      "[4]  0.6000000  0.1209677 1.4307692  9   \n",
      "[5]  0.5000000  0.1129032 1.4090909  7   \n",
      "[6]  0.5333333  0.1209677 1.3496599  8   \n",
      "[7]  0.4666667  0.1209677 1.3151515  7   \n",
      "[8]  0.5714286  0.1129032 1.3121693  8   \n",
      "[9]  0.6000000  0.1209677 1.2827586  9   \n",
      "[10] 0.5000000  0.1129032 1.2653061  7   \n",
      "[11] 0.7142857  0.1129032 1.2301587 10   \n",
      "[12] 0.5333333  0.1209677 1.2024242  8   \n",
      "[13] 0.6000000  0.1209677 1.2000000  9   \n",
      "[14] 0.6428571  0.1129032 1.1722689  9   \n",
      "[15] 0.6428571  0.1129032 1.1552795  9   \n",
      "[16] 0.5000000  0.1129032 1.1071429  7   \n",
      "[17] 0.5714286  0.1129032 1.0735931  8   \n",
      "[18] 0.4666667  0.1209677 1.0716049  7   \n",
      "[19] 0.4666667  0.1209677 1.0716049  7   \n",
      "[20] 0.5000000  0.1129032 1.0000000  7   \n",
      "[21] 0.5000000  0.1129032 1.0000000  7   \n",
      "[22] 1.0000000  0.1129032 1.0000000 14   \n",
      "[23] 0.7142857  0.1129032 0.9951846 10   \n",
      "[24] 0.6428571  0.1129032 0.9841270  9   \n",
      "[25] 0.7857143  0.1129032 0.9551821 11   \n",
      "[26] 0.5714286  0.1129032 0.9447619  8   \n",
      "[27] 0.7857143  0.1129032 0.9191375 11   \n",
      "[28] 0.6428571  0.1129032 0.9162562  9   \n",
      "[29] 0.5000000  0.1129032 0.9117647  7   \n",
      "[30] 0.6428571  0.1129032 0.8217968  9   \n"
     ]
    }
   ],
   "source": [
    "inspect(sort(asthma_rules[1:30], by = 'lift'))"
   ]
  },
  {
   "cell_type": "code",
   "execution_count": 74,
   "id": "c0161485-10e9-419f-aa68-c545dc91c9fe",
   "metadata": {},
   "outputs": [],
   "source": [
    "# Here we start observing some intresting things. Very high lift values for {Smoking=Yes} => {GastroesophagealReflux=Yes} and the inverse. Lower, but still high lifts for {SleepQuality=Low} => {Education=Bachelor's} and {SleepQuality=Low} => {ChestTightness=Yes}.\n",
    "# {SleepQuality=Low} => {LungFunctionFEV1=High} rule represents as well relatively high level of the lift. These facts proove that things that we can control in our behaviour and habits have also impact on our health. Young adults (people at bachelor level, it may include students in vast majority of cases) \n",
    "# are the most vulnerable group, as they sleep less"
   ]
  },
  {
   "cell_type": "code",
   "execution_count": 71,
   "id": "99810e48-1a8b-410f-90ad-0f89ebe4b92f",
   "metadata": {},
   "outputs": [
    {
     "name": "stdout",
     "output_type": "stream",
     "text": [
      "     lhs                             rhs                          support   \n",
      "[1]  {Smoking=Yes}                => {Diagnosis=Yes}              0.11290323\n",
      "[2]  {Smoking=Yes}                => {Eczema=No}                  0.08870968\n",
      "[3]  {Smoking=Yes}                => {PetAllergy=No}              0.08870968\n",
      "[4]  {Smoking=Yes}                => {ChestTightness=No}          0.08064516\n",
      "[5]  {Smoking=Yes}                => {ExerciseInduced=Yes}        0.08064516\n",
      "[6]  {Smoking=Yes}                => {GastroesophagealReflux=Yes} 0.07258065\n",
      "[7]  {GastroesophagealReflux=Yes} => {Smoking=Yes}                0.07258065\n",
      "[8]  {Smoking=Yes}                => {SleepQuality=High}          0.07258065\n",
      "[9]  {Smoking=Yes}                => {NighttimeSymptoms=Yes}      0.07258065\n",
      "[10] {Smoking=Yes}                => {Wheezing=Yes}               0.07258065\n",
      "[11] {Smoking=Yes}                => {FamilyHistoryAsthma=No}     0.07258065\n",
      "[12] {Smoking=Yes}                => {HayFever=No}                0.07258065\n",
      "[13] {SleepQuality=Low}           => {ChestTightness=Yes}         0.07258065\n",
      "[14] {SleepQuality=Low}           => {ShortnessOfBreath=Yes}      0.07258065\n",
      "[15] {SleepQuality=Low}           => {Gender=No}                  0.07258065\n",
      "[16] {Smoking=Yes}                => {PollenExposure=High}        0.06451613\n",
      "[17] {Smoking=Yes}                => {ShortnessOfBreath=No}       0.06451613\n",
      "[18] {Smoking=Yes}                => {HistoryOfAllergies=No}      0.06451613\n",
      "[19] {SleepQuality=Low}           => {HistoryOfAllergies=Yes}     0.06451613\n",
      "[20] {SleepQuality=Low}           => {NighttimeSymptoms=No}       0.06451613\n",
      "[21] {Smoking=Yes}                => {DustExposure=High}          0.05645161\n",
      "[22] {Smoking=Yes}                => {PhysicalActivity=Active}    0.05645161\n",
      "[23] {Smoking=Yes}                => {Coughing=Yes}               0.05645161\n",
      "[24] {Smoking=Yes}                => {Gender=Yes}                 0.05645161\n",
      "[25] {Smoking=Yes}                => {Gender=No}                  0.05645161\n",
      "[26] {Smoking=Yes}                => {Coughing=No}                0.05645161\n",
      "[27] {SleepQuality=Low}           => {Education=Bachelor's}       0.05645161\n",
      "[28] {SleepQuality=Low}           => {LungFunctionFEV1=High}      0.05645161\n",
      "[29] {SleepQuality=Low}           => {PollutionExposure=High}     0.05645161\n",
      "[30] {SleepQuality=Low}           => {PollenExposure=High}        0.05645161\n",
      "     confidence coverage  lift      count\n",
      "[1]  1.0000000  0.1129032 1.0000000 14   \n",
      "[2]  0.7857143  0.1129032 0.9551821 11   \n",
      "[3]  0.7857143  0.1129032 0.9191375 11   \n",
      "[4]  0.7142857  0.1129032 1.2301587 10   \n",
      "[5]  0.7142857  0.1129032 0.9951846 10   \n",
      "[6]  0.6428571  0.1129032 3.3214286  9   \n",
      "[7]  0.3750000  0.1935484 3.3214286  9   \n",
      "[8]  0.6428571  0.1129032 1.1722689  9   \n",
      "[9]  0.6428571  0.1129032 1.1552795  9   \n",
      "[10] 0.6428571  0.1129032 0.9841270  9   \n",
      "[11] 0.6428571  0.1129032 0.9162562  9   \n",
      "[12] 0.6428571  0.1129032 0.8217968  9   \n",
      "[13] 0.6000000  0.1209677 1.4307692  9   \n",
      "[14] 0.6000000  0.1209677 1.2827586  9   \n",
      "[15] 0.6000000  0.1209677 1.2000000  9   \n",
      "[16] 0.5714286  0.1129032 1.3121693  8   \n",
      "[17] 0.5714286  0.1129032 1.0735931  8   \n",
      "[18] 0.5714286  0.1129032 0.9447619  8   \n",
      "[19] 0.5333333  0.1209677 1.3496599  8   \n",
      "[20] 0.5333333  0.1209677 1.2024242  8   \n",
      "[21] 0.5000000  0.1129032 1.4090909  7   \n",
      "[22] 0.5000000  0.1129032 1.2653061  7   \n",
      "[23] 0.5000000  0.1129032 1.1071429  7   \n",
      "[24] 0.5000000  0.1129032 1.0000000  7   \n",
      "[25] 0.5000000  0.1129032 1.0000000  7   \n",
      "[26] 0.5000000  0.1129032 0.9117647  7   \n",
      "[27] 0.4666667  0.1209677 1.9954023  7   \n",
      "[28] 0.4666667  0.1209677 1.3151515  7   \n",
      "[29] 0.4666667  0.1209677 1.0716049  7   \n",
      "[30] 0.4666667  0.1209677 1.0716049  7   \n"
     ]
    }
   ],
   "source": [
    "inspect(sort(asthma_rules[1:30], by = 'support'))"
   ]
  },
  {
   "cell_type": "code",
   "execution_count": 75,
   "id": "c8a178e3-75df-42fc-a16e-7c99fa209539",
   "metadata": {},
   "outputs": [],
   "source": [
    "# {Smoking=Yes} => {Diagnosis=Yes} the most frequent item in terms of support level. It may mean that smoking is in fact a risky activity, that goes together with asthma risk"
   ]
  }
 ],
 "metadata": {
  "kernelspec": {
   "display_name": "R",
   "language": "R",
   "name": "ir"
  },
  "language_info": {
   "codemirror_mode": "r",
   "file_extension": ".r",
   "mimetype": "text/x-r-source",
   "name": "R",
   "pygments_lexer": "r",
   "version": "4.4.1"
  }
 },
 "nbformat": 4,
 "nbformat_minor": 5
}
